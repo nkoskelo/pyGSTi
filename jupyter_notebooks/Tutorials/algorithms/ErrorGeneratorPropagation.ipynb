{
 "cells": [
  {
   "cell_type": "markdown",
   "id": "a2bf624d-6098-46e5-820e-e775e4fb41f0",
   "metadata": {},
   "source": [
    "# Error Generator Propagation\n",
    "In this tutorial we will provide an overview of the core functionality available through pyGSTi's error generator propagation module.\n",
    "\n",
    "Error generator propagation is a technique which leverages the analytical properties of the error generator formalism to enable efficient forward simulation by propagating general markovian error channels through Clifford circuits. Efficiency of this technique relies on two conditions:\n",
    "\n",
    "- Sparsity: At most a polynomial number of error generator rates (in the number of qubits) can be nonzero for any given circuit layer.\n",
    "- Clifford-only: The propagation of error generators relies on the analytic properties of the elementary error generators when conjugated by cliffords.\n",
    "\n",
    "That is pretty much it though. Coherent errors, non-unital errors (e.g. amplitude damping), dephasing, all fair game. Practically there is a third requirement as well and that is that the error generator rates are relatively small. The larger the error generator rates, the higher-order the approximation you'll require (BCH and/or taylor series) to achieve a given precision target when using the functionality described herein for efficiently performing strong simulation in the error generator propagation framework. \n",
    "\n",
    "Please note: The implementation of the error generator propagation framework in pyGSTi requires the `stim` python package, so please ensure this is installed in your environment before proceeding."
   ]
  },
  {
   "cell_type": "code",
   "execution_count": 1,
   "id": "472bba68-9e69-4379-aa3c-7e062128ef7c",
   "metadata": {},
   "outputs": [],
   "source": [
    "import pygsti\n",
    "import stim\n",
    "from pygsti.tools import errgenproptools as eprop\n",
    "from pygsti.tools.lindbladtools import random_error_generator_rates\n",
    "from pygsti.errorgenpropagation.errorpropagator import ErrorGeneratorPropagator\n",
    "from pygsti.errorgenpropagation.localstimerrorgen import LocalStimErrorgenLabel as _LSE"
   ]
  },
  {
   "cell_type": "markdown",
   "id": "1a4682fa-f5e3-4a44-a596-e095f2cc4890",
   "metadata": {},
   "source": [
    "To begin we need an error model, and particularly one parameterized using error generators (or otherwise capable of outputing error generators for a circuit layer). For this tutorial we'll work with a 4-qubit crosstalk-free model for a gate set consisting of $\\pi/2$ rotations about X and Y on each qubit, and a two-qubit CPHASE gate. "
   ]
  },
  {
   "cell_type": "code",
   "execution_count": 2,
   "id": "ae464763-b211-4bf4-a85c-47465aa7187b",
   "metadata": {},
   "outputs": [],
   "source": [
    "num_qubits = 4\n",
    "gate_names = ['Gcphase', 'Gxpi2', 'Gypi2']\n",
    "availability = {'Gcphase':[(0,1), (1,2), (2,3), (3,0)]}\n",
    "pspec = pygsti.processors.QubitProcessorSpec(num_qubits, gate_names, availability=availability)\n",
    "target_model = pygsti.models.create_crosstalk_free_model(processor_spec = pspec)"
   ]
  },
  {
   "cell_type": "markdown",
   "id": "f24def6b-b268-4a62-bbe5-37d0c188c15b",
   "metadata": {},
   "source": [
    "Now that we have a target model we'll also want a noisy model to simulate as well. For this example we'll randomly sample a weight-2 H+S (coherent + pauli stochastic) error model, but the error generator propagation framework can also handle C and A error generators as well (i.e. general lindbladian errors). \n",
    "The specific specification we'll need for the model construction routine we're about to use is a dictionary whose keys are gate labels. Each value of this dictionary is itself a dictionary whose keys are elementary error generator labels, and whose values are error generator rates."
   ]
  },
  {
   "cell_type": "code",
   "execution_count": 3,
   "id": "e205a715-c231-40a1-82bf-27cf303e8820",
   "metadata": {},
   "outputs": [],
   "source": [
    "qubit_labels = pspec.qubit_labels\n",
    "error_rates_dict = {}\n",
    "for gate, availability in pspec.availability.items():\n",
    "    n = pspec.gate_num_qubits(gate)\n",
    "    if availability == 'all-edges':\n",
    "        assert(n == 1), \"Currently require all 2-qubit gates have a specified availability!\"\n",
    "        qubits_for_gate = qubit_labels\n",
    "    else:\n",
    "        qubits_for_gate = availability  \n",
    "    for qs in qubits_for_gate:\n",
    "        label = pygsti.baseobjs.Label(gate, qs)\n",
    "        # Sample error rates.\n",
    "        error_rates_dict[label] = random_error_generator_rates(num_qubits=n, errorgen_types=('H', 'S'), label_type='local', seed=1234)"
   ]
  },
  {
   "cell_type": "code",
   "execution_count": 4,
   "id": "5ebacf47-54ba-4cd1-b14c-26f1d0516d29",
   "metadata": {},
   "outputs": [],
   "source": [
    "error_model = pygsti.models.create_crosstalk_free_model(pspec, lindblad_error_coeffs=error_rates_dict)"
   ]
  },
  {
   "cell_type": "markdown",
   "id": "ab4dc617-6d7c-410c-a976-282a169c8bdf",
   "metadata": {},
   "source": [
    "We'll also need an example circuit for the rest of our examples, so will construct one at random."
   ]
  },
  {
   "cell_type": "code",
   "execution_count": 5,
   "id": "4e88638b-cc35-49be-8976-ee658d3201a6",
   "metadata": {},
   "outputs": [],
   "source": [
    "c = pygsti.algorithms.randomcircuit.create_random_circuit(pspec, 3, sampler='edgegrab', samplerargs=[0.4,], rand_state=12345)"
   ]
  },
  {
   "cell_type": "code",
   "execution_count": 6,
   "id": "145d7875-599a-447f-b2ac-b2fc702d6dda",
   "metadata": {},
   "outputs": [
    {
     "name": "stdout",
     "output_type": "stream",
     "text": [
      "Qubit 0 ---|Gxpi2|-|Gxpi2|-|Gypi2|---\n",
      "Qubit 1 ---|Gypi2|-|Gypi2|-|Gxpi2|---\n",
      "Qubit 2 ---|Gypi2|-|Gypi2|-| C3  |---\n",
      "Qubit 3 ---|Gypi2|-|Gxpi2|-| C2  |---\n",
      "\n"
     ]
    }
   ],
   "source": [
    "print(c)"
   ]
  },
  {
   "cell_type": "markdown",
   "id": "192d74b6-3f36-499f-9db6-335a01b87c3f",
   "metadata": {},
   "source": [
    "## Basic Propagation\n",
    "In this section we'll introduce the basic syntax of the `ErrorGeneratorPropagator` class and usage of the basic error generator propagation functionality.\n",
    "Our first step will be to create an instance of the `ErrorGeneratorPropagator` class. This is as simple as passing in our error model into the constructor."
   ]
  },
  {
   "cell_type": "code",
   "execution_count": 7,
   "id": "c66532cd-876e-4002-89d2-b47eaafb5bf0",
   "metadata": {},
   "outputs": [],
   "source": [
    "errorgen_propagator = ErrorGeneratorPropagator(error_model)"
   ]
  },
  {
   "cell_type": "markdown",
   "id": "7fc2f197-6351-4c16-b351-7e539f1db839",
   "metadata": {},
   "source": [
    "The very first thing we can do is propagate the error generators for each circuit layer to the end of the circuit. This is done using the `propagate_errorgens` method."
   ]
  },
  {
   "cell_type": "code",
   "execution_count": 8,
   "id": "90dc2734-2d17-4555-b32c-ac307967c21e",
   "metadata": {},
   "outputs": [],
   "source": [
    "propagated_errorgen_layers = errorgen_propagator.propagate_errorgens(c)"
   ]
  },
  {
   "cell_type": "markdown",
   "id": "044babe6-675d-4145-bb68-bc3e5e80efff",
   "metadata": {},
   "source": [
    "The output of this method is a list of dictionaries, one for each original error generator layer in the circuit, containing an updated set of elementary error generator coefficients and rates corresponding to the result of propagating each error generator through the circuit. Note this list is returned in circuit ordering, so there is a one-to-one correspondence between the position an error generator appears in the original circuit and where it appears in this final list.\n",
    "\n",
    "So, to see the result of propagating the error generator corresponding to the noise induced after the first layer of gates to the very end we could query this list as follows:"
   ]
  },
  {
   "cell_type": "code",
   "execution_count": 9,
   "id": "b43a4a84-2795-440a-9db4-9d80cfceea6c",
   "metadata": {},
   "outputs": [
    {
     "name": "stdout",
     "output_type": "stream",
     "text": [
      "{(H, (stim.PauliString(\"+Z___\"),)): 0.016038368053963015, (H, (stim.PauliString(\"+X___\"),)): 0.000640999140037641, (H, (stim.PauliString(\"+Y___\"),)): -0.007408912958767258, (S, (stim.PauliString(\"+Z___\"),)): 0.0011866037029552281, (S, (stim.PauliString(\"+X___\"),)): 0.001371201178398027, (S, (stim.PauliString(\"+Y___\"),)): 0.00034799818155795706, (H, (stim.PauliString(\"+_Y__\"),)): -0.016038368053963015, (H, (stim.PauliString(\"+_Z__\"),)): 0.000640999140037641, (H, (stim.PauliString(\"+_X__\"),)): 0.007408912958767258, (S, (stim.PauliString(\"+_Y__\"),)): 0.0011866037029552281, (S, (stim.PauliString(\"+_Z__\"),)): 0.001371201178398027, (S, (stim.PauliString(\"+_X__\"),)): 0.00034799818155795706, (H, (stim.PauliString(\"+__Z_\"),)): 0.016038368053963015, (H, (stim.PauliString(\"+__YZ\"),)): 0.000640999140037641, (H, (stim.PauliString(\"+__XZ\"),)): 0.007408912958767258, (S, (stim.PauliString(\"+__Z_\"),)): 0.0011866037029552281, (S, (stim.PauliString(\"+__YZ\"),)): 0.001371201178398027, (S, (stim.PauliString(\"+__XZ\"),)): 0.00034799818155795706, (H, (stim.PauliString(\"+__ZX\"),)): -0.016038368053963015, (H, (stim.PauliString(\"+___Z\"),)): 0.000640999140037641, (H, (stim.PauliString(\"+__ZY\"),)): -0.007408912958767258, (S, (stim.PauliString(\"+__ZX\"),)): 0.0011866037029552281, (S, (stim.PauliString(\"+___Z\"),)): 0.001371201178398027, (S, (stim.PauliString(\"+__ZY\"),)): 0.00034799818155795706}\n"
     ]
    }
   ],
   "source": [
    "print(propagated_errorgen_layers[1])"
   ]
  },
  {
   "cell_type": "markdown",
   "id": "981a3cb7-a629-44cd-bb17-bc52dd74e9a2",
   "metadata": {},
   "source": [
    "There are a few things worth noting at this point. First, we stated we'd be looking at the output of propagating the *first* circuit layer to the end but we indexed into the *second* position of the final list, what gives? This is because by default the `propagate_errorgens` method prepends and appends the error generator layers corresponding to state preparation and measurement respectively *before* beginning the propagation. As such the first layer in the final output corresponds to the error generator associated with state prep, and the final one with measurement. We never actually specified error generator rates for the SPAM, so you'll notice the corresponding dictionaries in the final output are both empty in this case."
   ]
  },
  {
   "cell_type": "code",
   "execution_count": 10,
   "id": "a7710d39-9574-41aa-a922-c95f7bb8225f",
   "metadata": {},
   "outputs": [
    {
     "name": "stdout",
     "output_type": "stream",
     "text": [
      "{}\n",
      "{}\n"
     ]
    }
   ],
   "source": [
    "print(propagated_errorgen_layers[0])\n",
    "print(propagated_errorgen_layers[-1])"
   ]
  },
  {
   "cell_type": "markdown",
   "id": "85b38f4f-9797-416b-b04d-395caed0438b",
   "metadata": {},
   "source": [
    "To change this behavior so that the SPAM layers are not included you can set the optional kwarg `include_spam` to `FALSE` in `propgate_errorgens` and other related methods."
   ]
  },
  {
   "cell_type": "markdown",
   "id": "1076dfa4-da39-4c3d-9466-0de50c415521",
   "metadata": {},
   "source": [
    "The next things worth noting are the keys of the final dictionary. Notice that the basis element labels for each of the elementary error generator coefficient labels are instances of `stim.PauliString`, very much unlike the other elementary error generator labels used in pyGSTi. These labels are instances of the class `LocalStimErrorgenLabel`, a specialized label class with additional metadata and methods used throughout the error generator propagation framework. For applications where you need to take the output of this module and utilize it elsewhere in pyGSTi you can utilize the `to_local_eel` and `to_global_eel` methods of the `LocalStimErrorgenLabel` class to convert these into instances of `LocalElementaryErrorgenLabel` and `GlobalElementaryErrorgenLabel`, respectively, for use within other parts of pyGSTi."
   ]
  },
  {
   "cell_type": "markdown",
   "id": "af5abf19-7c96-4c06-aa41-4a2b47890205",
   "metadata": {},
   "source": [
    "While the output of `propgate_errorgens` is in and of itself incredibly useful, often we want to know more about how specific errors have been transformed by propagation through the circuit. Fortunately the analytic structure of error generator propagation through a clifford operation is such that it acts as a generalized permutation of each elementary error generator within it's sector (i.e. propagation can't in and of itself map H errors to anything other than H errors, for example). To view the input-output corresponding to the transformation of each error generator we can use the `errorgen_transform_map` method."
   ]
  },
  {
   "cell_type": "code",
   "execution_count": 11,
   "id": "b4b3ab03-399f-43dd-99d0-957bbf219ad5",
   "metadata": {},
   "outputs": [],
   "source": [
    "errorgen_transform_map = errorgen_propagator.errorgen_transform_map(c)"
   ]
  },
  {
   "cell_type": "markdown",
   "id": "eeddc38f-78cc-46e9-ae36-c506a352c7a5",
   "metadata": {},
   "source": [
    "This method returns a dictionary with the following structure: Keys are tuples of the form (<original_errorgen_label>, <layer_index>), and values are of the form (<final_errorgen_label>, <overall_phase>), where overall_phase corresponds to the overall sign accumulated on the final error generator rate as a result of propagation. So, for example, we can see that as a result of propagation through the circuit the H(XIII) error generator at circuit layer 1 is mapped to an H(ZIII) error generator accruing and overall phase of -1.\n"
   ]
  },
  {
   "cell_type": "code",
   "execution_count": 12,
   "id": "d5600efa-93a4-4100-93f7-43173c83f948",
   "metadata": {},
   "outputs": [
    {
     "name": "stdout",
     "output_type": "stream",
     "text": [
      "((H, (stim.PauliString(\"+Z___\"),)), -1.0)\n"
     ]
    }
   ],
   "source": [
    "print(errorgen_transform_map[(_LSE('H', [stim.PauliString('XIII')]), 1)])"
   ]
  },
  {
   "cell_type": "markdown",
   "id": "16b35551-56e1-4cb9-ab69-9e0bb71205d6",
   "metadata": {},
   "source": [
    "For some purposes it can be useful to go another step further and identity which gate a particular error might be associated with in the original error model. For this purpose `ErrorGeneratorPropagator` has a helper method available called `errorgen_gate_contributors`."
   ]
  },
  {
   "cell_type": "code",
   "execution_count": 13,
   "id": "432a7f5d-d27b-4f12-a262-810609318cf3",
   "metadata": {},
   "outputs": [
    {
     "name": "stdout",
     "output_type": "stream",
     "text": [
      "[Label(('Gxpi2', 0))]\n"
     ]
    }
   ],
   "source": [
    "print(errorgen_propagator.errorgen_gate_contributors(_LSE('H', [stim.PauliString('XIII')]), c, layer_idx=1))"
   ]
  },
  {
   "cell_type": "markdown",
   "id": "bd1e42b3-2309-4c67-9d78-67ac5510bbb9",
   "metadata": {},
   "source": [
    "Here this method returns the fact that in our particular error model the only gate at layer index 1 which could have contributed this particular error generator was the 'Gxpi2' gate acting on qubit 0. In some error models it may be possible for multiple gates to contribute to a particular rate, in which case this method should return all such gates."
   ]
  },
  {
   "cell_type": "markdown",
   "id": "90c2be36-4333-40b7-b3a4-742bc60623b1",
   "metadata": {},
   "source": [
    "## BCH Approximation\n",
    "In the previous section we showed how to use the `ErrorGeneratorPropagator` class to transform a circuit with a series of post-gate error generators into an equivalent representation of this noisy circuit with instead a series of post-circuit error generator layers. What if we want a single effective end-of-circuit error generator which approximates the overall action of the composition of each of the propagated error generators? To do so the `ErrorGeneratorPropagator` class supports the option to iteratively apply the BCH approximation at various orders to perform this recombination.\n",
    "\n",
    "The main method for performing propagation together with the iterative application of the BCH approximation is called `propagate_errorgens_bch`."
   ]
  },
  {
   "cell_type": "code",
   "execution_count": 14,
   "id": "6ee0db5d-972c-4367-96da-f390fe1ac56e",
   "metadata": {},
   "outputs": [],
   "source": [
    "propagated_errorgen_layer_first_order = errorgen_propagator.propagate_errorgens_bch(c)"
   ]
  },
  {
   "cell_type": "markdown",
   "id": "5c5f5c55-fbc1-4371-8f7e-d274c6c361bc",
   "metadata": {},
   "source": [
    "As before this method propagated all of a circuits error generator layers to the very end, but follows this up with an iterative application of the BCH approximation resulting in a single final error generator. Without any additional optional arguments specified this uses the first-order BCH approximation."
   ]
  },
  {
   "cell_type": "code",
   "execution_count": 15,
   "id": "b0d58c38-f3ce-494d-8daa-cbb5ef8d66b0",
   "metadata": {},
   "outputs": [
    {
     "name": "stdout",
     "output_type": "stream",
     "text": [
      "{(H, (stim.PauliString(\"+___X\"),)): -0.016038368053963015, (H, (stim.PauliString(\"+___Y\"),)): 0.000640999140037641, (H, (stim.PauliString(\"+___Z\"),)): 0.015458825057572158, (H, (stim.PauliString(\"+__X_\"),)): 0.0015261919356565306, (H, (stim.PauliString(\"+__XX\"),)): 0.008637438913233318, (H, (stim.PauliString(\"+__XY\"),)): 0.02913099222503971, (H, (stim.PauliString(\"+__XZ\"),)): -0.023417688701839773, (H, (stim.PauliString(\"+__Y_\"),)): 0.009454729746458598, (H, (stim.PauliString(\"+__YX\"),)): -0.016661354573179642, (H, (stim.PauliString(\"+__YY\"),)): 0.0034374458145267966, (H, (stim.PauliString(\"+__YZ\"),)): -0.003842438812773296, (H, (stim.PauliString(\"+__Z_\"),)): 0.036684870579615995, (H, (stim.PauliString(\"+__ZX\"),)): -0.04067953804377626, (H, (stim.PauliString(\"+__ZY\"),)): -0.0015729818285460167, (H, (stim.PauliString(\"+__ZZ\"),)): -0.012651437175495219, (S, (stim.PauliString(\"+___X\"),)): 0.0024143330497938234, (S, (stim.PauliString(\"+___Y\"),)): 0.003683612869525075, (S, (stim.PauliString(\"+___Z\"),)): 0.005101920188444729, (S, (stim.PauliString(\"+__X_\"),)): 0.002661734791363736, (S, (stim.PauliString(\"+__XX\"),)): 0.003737168273719153, (S, (stim.PauliString(\"+__XY\"),)): 0.003159101454087135, (S, (stim.PauliString(\"+__XZ\"),)): 0.0056859632815692025, (S, (stim.PauliString(\"+__Y_\"),)): 0.00254938052108778, (S, (stim.PauliString(\"+__YX\"),)): 0.0030131230078306983, (S, (stim.PauliString(\"+__YY\"),)): 0.002275601598622893, (S, (stim.PauliString(\"+__YZ\"),)): 0.005999188119143293, (S, (stim.PauliString(\"+__Z_\"),)): 0.005452070821520289, (S, (stim.PauliString(\"+__ZX\"),)): 0.004522281466412299, (S, (stim.PauliString(\"+__ZY\"),)): 0.004436402092067647, (S, (stim.PauliString(\"+__ZZ\"),)): 0.00272331772024521, (H, (stim.PauliString(\"+X___\"),)): -0.007988455955158116, (H, (stim.PauliString(\"+Y___\"),)): -0.0061269146786919765, (H, (stim.PauliString(\"+Z___\"),)): 0.03948564906669329, (S, (stim.PauliString(\"+X___\"),)): 0.002905803062911212, (S, (stim.PauliString(\"+Y___\"),)): 0.003090400538354011, (S, (stim.PauliString(\"+Z___\"),)): 0.0027212055874684133, (H, (stim.PauliString(\"+_X__\"),)): -0.024667823149158774, (H, (stim.PauliString(\"+_Y__\"),)): -0.02280628187269263, (H, (stim.PauliString(\"+_Z__\"),)): 0.00869091123884254, (S, (stim.PauliString(\"+_X__\"),)): 0.0027212055874684133, (S, (stim.PauliString(\"+_Y__\"),)): 0.002905803062911212, (S, (stim.PauliString(\"+_Z__\"),)): 0.003090400538354011}\n"
     ]
    }
   ],
   "source": [
    "print(propagated_errorgen_layer_first_order)"
   ]
  },
  {
   "cell_type": "markdown",
   "id": "e7b85f44-fe5e-4d2e-9555-8cae50e8f03b",
   "metadata": {},
   "source": [
    "This method supports a number of additional arguments beyond those already for `propagate_errorgens`:\n",
    "- `bch_order`: An integer from 1 to 5 specifying the order of the BCH approximation to apply (5 is the current maximum). Note that the computational cost of higher order BCH can scale rapidly,    so keep this in mind when balancing the need for accuracy and speed of computation.\n",
    "- `truncation_threshold`: This argument allows you to specify a minimum threshold (in terms of error generator rate) below which rates are truncated to zero. This can improve performance      by allowing one to skip the computation of terms corresponding to very small corrections.\n",
    "Some interesting emergent behavior starts to occur when we begin to look at higher-order BCH corrections."
   ]
  },
  {
   "cell_type": "code",
   "execution_count": 16,
   "id": "3b88d003-76d2-4464-9a77-3c4ce6e63745",
   "metadata": {},
   "outputs": [],
   "source": [
    "propagated_errorgen_layer_second_order = errorgen_propagator.propagate_errorgens_bch(c, bch_order=2)"
   ]
  },
  {
   "cell_type": "code",
   "execution_count": 17,
   "id": "2a60a527-051b-47e3-bbdc-41492bdeb2f1",
   "metadata": {
    "tags": []
   },
   "outputs": [
    {
     "name": "stdout",
     "output_type": "stream",
     "text": [
      "{(H, (stim.PauliString(\"+___X\"),)): -0.016366628760355446, (H, (stim.PauliString(\"+___Y\"),)): 0.0012701883102106228, (H, (stim.PauliString(\"+___Z\"),)): 0.015811660858690683, (H, (stim.PauliString(\"+__X_\"),)): 0.0022810144249310817, (H, (stim.PauliString(\"+__XX\"),)): 0.00817058193708496, (H, (stim.PauliString(\"+__XY\"),)): 0.028939475463994727, (H, (stim.PauliString(\"+__XZ\"),)): -0.023550875758712682, (H, (stim.PauliString(\"+__Y_\"),)): 0.009994656773212925, (H, (stim.PauliString(\"+__YX\"),)): -0.016779562020536862, (H, (stim.PauliString(\"+__YY\"),)): 0.002926947172357588, (H, (stim.PauliString(\"+__YZ\"),)): -0.003297737298653086, (H, (stim.PauliString(\"+__Z_\"),)): 0.03660740203498932, (H, (stim.PauliString(\"+__ZX\"),)): -0.040531712484628495, (H, (stim.PauliString(\"+__ZY\"),)): -0.001851200491716163, (H, (stim.PauliString(\"+__ZZ\"),)): -0.012430018460989222, (S, (stim.PauliString(\"+___X\"),)): 0.0024141650598773568, (S, (stim.PauliString(\"+___Y\"),)): 0.0036830935030083747, (S, (stim.PauliString(\"+___Z\"),)): 0.005101371725612574, (S, (stim.PauliString(\"+__X_\"),)): 0.0026618925827871353, (S, (stim.PauliString(\"+__XX\"),)): 0.0037363923711846714, (S, (stim.PauliString(\"+__XY\"),)): 0.00315907976589997, (S, (stim.PauliString(\"+__XZ\"),)): 0.005685666597345913, (S, (stim.PauliString(\"+__Y_\"),)): 0.0025499711619194954, (S, (stim.PauliString(\"+__YX\"),)): 0.0030131078510913186, (S, (stim.PauliString(\"+__YY\"),)): 0.00227581501723727, (S, (stim.PauliString(\"+__YZ\"),)): 0.005999097874164904, (S, (stim.PauliString(\"+__Z_\"),)): 0.005452457750721968, (S, (stim.PauliString(\"+__ZX\"),)): 0.004522208837994344, (S, (stim.PauliString(\"+__ZY\"),)): 0.004437023183317757, (S, (stim.PauliString(\"+__ZZ\"),)): 0.0027238559732699116, (H, (stim.PauliString(\"+X___\"),)): -0.007783741055630419, (H, (stim.PauliString(\"+Y___\"),)): -0.005661459922019788, (H, (stim.PauliString(\"+Z___\"),)): 0.03953348672258176, (S, (stim.PauliString(\"+X___\"),)): 0.002905670793135387, (S, (stim.PauliString(\"+Y___\"),)): 0.0030905352244997224, (S, (stim.PauliString(\"+Z___\"),)): 0.002721203171098527, (H, (stim.PauliString(\"+_X__\"),)): -0.024485756015831597, (H, (stim.PauliString(\"+_Y__\"),)): -0.022833711046606444, (H, (stim.PauliString(\"+_Z__\"),)): 0.00938453200856714, (S, (stim.PauliString(\"+_X__\"),)): 0.002721018202212471, (S, (stim.PauliString(\"+_Y__\"),)): 0.002906281282011878, (S, (stim.PauliString(\"+_Z__\"),)): 0.003090109704509288, (C, (stim.PauliString(\"+__XY\"), stim.PauliString(\"+__XZ\"))): 2.4623724334019127e-05, (C, (stim.PauliString(\"+__YY\"), stim.PauliString(\"+__YZ\"))): 4.465348357724853e-05, (C, (stim.PauliString(\"+__ZY\"), stim.PauliString(\"+__ZZ\"))): -2.755957352422829e-05, (C, (stim.PauliString(\"+___Y\"), stim.PauliString(\"+___Z\"))): 2.8228349310421213e-05, (C, (stim.PauliString(\"+__XX\"), stim.PauliString(\"+__XZ\"))): 1.328318580782737e-06, (C, (stim.PauliString(\"+__YX\"), stim.PauliString(\"+__YZ\"))): 2.688338229602585e-06, (C, (stim.PauliString(\"+__ZX\"), stim.PauliString(\"+__ZZ\"))): -2.2716555974974645e-06, (C, (stim.PauliString(\"+___X\"), stim.PauliString(\"+___Z\"))): 2.01101914818271e-06, (C, (stim.PauliString(\"+__ZX\"), stim.PauliString(\"+__ZY\"))): 1.5753859413168797e-05, (C, (stim.PauliString(\"+__YZ\"), stim.PauliString(\"+__ZZ\"))): 5.184585649852202e-06, (C, (stim.PauliString(\"+__Y_\"), stim.PauliString(\"+__Z_\"))): -2.901062901596097e-06, (C, (stim.PauliString(\"+__YX\"), stim.PauliString(\"+__ZX\"))): -4.532193667972443e-06, (C, (stim.PauliString(\"+__YY\"), stim.PauliString(\"+__ZY\"))): -3.0219041584913162e-06, (C, (stim.PauliString(\"+___Y\"), stim.PauliString(\"+__XZ\"))): -1.271227712663107e-05, (C, (stim.PauliString(\"+__YX\"), stim.PauliString(\"+__Z_\"))): -1.3039770276036584e-05, (C, (stim.PauliString(\"+__Y_\"), stim.PauliString(\"+__ZX\"))): -1.9950145993005412e-05, (C, (stim.PauliString(\"+___Z\"), stim.PauliString(\"+__XY\"))): -1.4461367957463231e-05, (C, (stim.PauliString(\"+___X\"), stim.PauliString(\"+__XZ\"))): 4.4730567874280694e-05, (C, (stim.PauliString(\"+__YY\"), stim.PauliString(\"+__Z_\"))): -4.4516539621792385e-05, (C, (stim.PauliString(\"+__Y_\"), stim.PauliString(\"+__ZY\"))): -5.0117079718570586e-05, (C, (stim.PauliString(\"+___Z\"), stim.PauliString(\"+__XX\"))): 4.966024254781249e-05, (C, (stim.PauliString(\"+__YZ\"), stim.PauliString(\"+__Z_\"))): -3.418975273080511e-05, (C, (stim.PauliString(\"+__XZ\"), stim.PauliString(\"+__ZZ\"))): -1.4893329106399474e-05, (C, (stim.PauliString(\"+__X_\"), stim.PauliString(\"+__Z_\"))): 1.4865094771659637e-05, (C, (stim.PauliString(\"+__XX\"), stim.PauliString(\"+__ZX\"))): 2.2906831593528624e-05, (C, (stim.PauliString(\"+__XY\"), stim.PauliString(\"+__ZY\"))): 1.6545014507346572e-05, (C, (stim.PauliString(\"+___Y\"), stim.PauliString(\"+__YZ\"))): 4.583807045912111e-05, (C, (stim.PauliString(\"+__XX\"), stim.PauliString(\"+__Z_\"))): -2.5623164611721798e-05, (C, (stim.PauliString(\"+__X_\"), stim.PauliString(\"+__ZX\"))): -3.96888593302071e-05, (C, (stim.PauliString(\"+___Z\"), stim.PauliString(\"+__YY\"))): 2.8676625088533037e-05, (C, (stim.PauliString(\"+___X\"), stim.PauliString(\"+__YZ\"))): 8.802782842580865e-06, (C, (stim.PauliString(\"+__XY\"), stim.PauliString(\"+__Z_\"))): 5.033783897252847e-06, (C, (stim.PauliString(\"+__X_\"), stim.PauliString(\"+__ZY\"))): 5.2823720213310345e-06, (C, (stim.PauliString(\"+___Z\"), stim.PauliString(\"+__YX\"))): 5.653851705277768e-06, (C, (stim.PauliString(\"+__XZ\"), stim.PauliString(\"+__Z_\"))): 9.433585902582486e-07, (C, (stim.PauliString(\"+__XZ\"), stim.PauliString(\"+__YZ\"))): -4.144067801371556e-05, (C, (stim.PauliString(\"+___Z\"), stim.PauliString(\"+__ZY\"))): 1.1421088209354261e-05, (C, (stim.PauliString(\"+___Z\"), stim.PauliString(\"+__ZX\"))): -1.1202206170765282e-06, (C, (stim.PauliString(\"+__XZ\"), stim.PauliString(\"+__Y_\"))): -1.929138988780776e-05, (C, (stim.PauliString(\"+__X_\"), stim.PauliString(\"+__YZ\"))): 3.4332066193646426e-05, (C, (stim.PauliString(\"+___Y\"), stim.PauliString(\"+__ZX\"))): -2.9871798204252534e-05, (C, (stim.PauliString(\"+___X\"), stim.PauliString(\"+__ZY\"))): 2.162542939305882e-05, (C, (stim.PauliString(\"+___X\"), stim.PauliString(\"+__XY\"))): -6.432567576172542e-06, (C, (stim.PauliString(\"+___X\"), stim.PauliString(\"+__YY\"))): -3.477433017513346e-08, (C, (stim.PauliString(\"+___X\"), stim.PauliString(\"+__ZZ\"))): 2.251878563983956e-06, (C, (stim.PauliString(\"+___X\"), stim.PauliString(\"+___Y\"))): 1.0334876388949038e-05, (C, (stim.PauliString(\"+___Y\"), stim.PauliString(\"+__XX\"))): 4.7248554866870034e-07, (C, (stim.PauliString(\"+___Y\"), stim.PauliString(\"+__YX\"))): 8.855351194403839e-07, (C, (stim.PauliString(\"+___Y\"), stim.PauliString(\"+__ZZ\"))): 3.073358774802754e-05, (C, (stim.PauliString(\"+__X_\"), stim.PauliString(\"+__ZZ\"))): -1.1752359454690021e-07, (C, (stim.PauliString(\"+__X_\"), stim.PauliString(\"+__Y_\"))): -2.6329064367355074e-06, (C, (stim.PauliString(\"+__X_\"), stim.PauliString(\"+__YX\"))): -1.123106172668559e-05, (C, (stim.PauliString(\"+__X_\"), stim.PauliString(\"+__YY\"))): 2.7045660084993054e-06, (C, (stim.PauliString(\"+__XX\"), stim.PauliString(\"+__YX\"))): -1.6973158006614298e-05, (C, (stim.PauliString(\"+__XX\"), stim.PauliString(\"+__Y_\"))): 3.8068372532514665e-05, (C, (stim.PauliString(\"+__XX\"), stim.PauliString(\"+__XY\"))): -4.7882599046936274e-06, (C, (stim.PauliString(\"+__XY\"), stim.PauliString(\"+__YY\"))): -2.0707353884034883e-05, (C, (stim.PauliString(\"+__XY\"), stim.PauliString(\"+__Y_\"))): 4.045637708335117e-06, (C, (stim.PauliString(\"+__Y_\"), stim.PauliString(\"+__ZZ\"))): -1.500883723711078e-06, (C, (stim.PauliString(\"+__YX\"), stim.PauliString(\"+__YY\"))): -5.982706551279516e-06, (C, (stim.PauliString(\"+Y___\"), stim.PauliString(\"+Z___\"))): -4.066605487703408e-06, (C, (stim.PauliString(\"+X___\"), stim.PauliString(\"+Z___\"))): 6.147140455456534e-07, (C, (stim.PauliString(\"+X___\"), stim.PauliString(\"+Y___\"))): 3.8649506941318813e-05, (C, (stim.PauliString(\"+_Y__\"), stim.PauliString(\"+_Z__\"))): 3.8634448389020015e-05, (C, (stim.PauliString(\"+_X__\"), stim.PauliString(\"+_Z__\"))): -2.364593599604513e-05, (C, (stim.PauliString(\"+_X__\"), stim.PauliString(\"+_Y__\"))): -4.6546798822731776e-07, (C, (stim.PauliString(\"+__XZ\"), stim.PauliString(\"+__YY\"))): 3.182463873575446e-08, (C, (stim.PauliString(\"+__XY\"), stim.PauliString(\"+__YZ\"))): 2.1425205471734596e-08, (A, (stim.PauliString(\"+__Z_\"), stim.PauliString(\"+__ZX\"))): -1.6511901898579762e-09, (A, (stim.PauliString(\"+__X_\"), stim.PauliString(\"+__XX\"))): 9.770462482071315e-09, (A, (stim.PauliString(\"+__Y_\"), stim.PauliString(\"+__YX\"))): -2.3532403638316404e-08, (C, (stim.PauliString(\"+___Z\"), stim.PauliString(\"+__ZZ\"))): -2.592151120917717e-07, (C, (stim.PauliString(\"+___Y\"), stim.PauliString(\"+__ZY\"))): 2.617007349379505e-07, (C, (stim.PauliString(\"+__XZ\"), stim.PauliString(\"+__YX\"))): -2.7452465733429826e-09, (C, (stim.PauliString(\"+__XX\"), stim.PauliString(\"+__YZ\"))): 1.2820453148221837e-07, (A, (stim.PauliString(\"+__Z_\"), stim.PauliString(\"+__ZY\"))): 4.117751923769017e-11, (A, (stim.PauliString(\"+__Y_\"), stim.PauliString(\"+__YY\"))): 3.4383444473268805e-10, (A, (stim.PauliString(\"+__X_\"), stim.PauliString(\"+__XY\"))): -9.653252578904504e-10, (C, (stim.PauliString(\"+___X\"), stim.PauliString(\"+__ZX\"))): -2.485622846178766e-09, (C, (stim.PauliString(\"+__Z_\"), stim.PauliString(\"+__ZZ\"))): -1.6652135968731107e-08, (C, (stim.PauliString(\"+__Y_\"), stim.PauliString(\"+__YZ\"))): -2.5886590148089146e-08, (A, (stim.PauliString(\"+___Z\"), stim.PauliString(\"+__XZ\"))): -9.804193775862733e-11, (A, (stim.PauliString(\"+___Y\"), stim.PauliString(\"+__XY\"))): -2.2983987525965355e-09, (A, (stim.PauliString(\"+___X\"), stim.PauliString(\"+__XX\"))): -8.186553210058193e-10, (C, (stim.PauliString(\"+__YY\"), stim.PauliString(\"+__ZX\"))): -1.0370017316073812e-07, (C, (stim.PauliString(\"+__YX\"), stim.PauliString(\"+__ZY\"))): 5.62296366051593e-08, (C, (stim.PauliString(\"+___Y\"), stim.PauliString(\"+__Z_\"))): -1.3094977805556137e-07, (A, (stim.PauliString(\"+__YZ\"), stim.PauliString(\"+__ZY\"))): -4.412670990729238e-09, (A, (stim.PauliString(\"+__YY\"), stim.PauliString(\"+__ZZ\"))): -8.040184466997569e-09, (A, (stim.PauliString(\"+___X\"), stim.PauliString(\"+__X_\"))): 6.287118243550577e-10, (C, (stim.PauliString(\"+__XY\"), stim.PauliString(\"+__ZX\"))): 5.478449762312655e-08, (C, (stim.PauliString(\"+___Z\"), stim.PauliString(\"+__Y_\"))): -4.2438858069880333e-07, (C, (stim.PauliString(\"+___X\"), stim.PauliString(\"+__Z_\"))): -1.0399433264019869e-08, (A, (stim.PauliString(\"+__YZ\"), stim.PauliString(\"+__ZX\"))): 1.3754615244774694e-08, (C, (stim.PauliString(\"+__XX\"), stim.PauliString(\"+__ZY\"))): 4.791730783219299e-07, (C, (stim.PauliString(\"+__X_\"), stim.PauliString(\"+__XZ\"))): 4.253872611682026e-08, (A, (stim.PauliString(\"+___Z\"), stim.PauliString(\"+__YZ\"))): 4.83020627948673e-09, (A, (stim.PauliString(\"+___Y\"), stim.PauliString(\"+__YY\"))): -6.882017282429429e-10, (A, (stim.PauliString(\"+___X\"), stim.PauliString(\"+__YX\"))): 8.800961953047258e-09, (A, (stim.PauliString(\"+__XZ\"), stim.PauliString(\"+__ZY\"))): 1.0703185162195312e-09, (A, (stim.PauliString(\"+__XY\"), stim.PauliString(\"+__ZZ\"))): -3.938799776847555e-08, (A, (stim.PauliString(\"+___X\"), stim.PauliString(\"+__Y_\"))): 8.937215731408386e-09, (C, (stim.PauliString(\"+___Z\"), stim.PauliString(\"+__X_\"))): 1.5992980976589743e-07, (A, (stim.PauliString(\"+__XZ\"), stim.PauliString(\"+__ZX\"))): 3.5389366224904316e-10, (A, (stim.PauliString(\"+___Y\"), stim.PauliString(\"+__Y_\"))): -2.094068127878404e-09, (A, (stim.PauliString(\"+__XX\"), stim.PauliString(\"+__ZZ\"))): -5.04361554243656e-09, (A, (stim.PauliString(\"+___Z\"), stim.PauliString(\"+__Z_\"))): 8.127230836031873e-10, (A, (stim.PauliString(\"+__XX\"), stim.PauliString(\"+__YY\"))): 6.7862803623284764e-09, (A, (stim.PauliString(\"+__XY\"), stim.PauliString(\"+__YX\"))): -2.9908419333357734e-08, (A, (stim.PauliString(\"+__YY\"), stim.PauliString(\"+__ZX\"))): -2.204992806438256e-09, (C, (stim.PauliString(\"+___Y\"), stim.PauliString(\"+__XY\"))): -3.083598730536217e-08, (C, (stim.PauliString(\"+___X\"), stim.PauliString(\"+__XX\"))): 3.083598730536217e-08, (C, (stim.PauliString(\"+__XY\"), stim.PauliString(\"+__ZZ\"))): 1.1352994504609885e-07, (C, (stim.PauliString(\"+___X\"), stim.PauliString(\"+__Y_\"))): -1.1352994504609885e-07, (A, (stim.PauliString(\"+__XY\"), stim.PauliString(\"+__ZX\"))): -7.457445591587116e-11, (C, (stim.PauliString(\"+___Y\"), stim.PauliString(\"+__YY\"))): -2.743866343309294e-09, (C, (stim.PauliString(\"+___X\"), stim.PauliString(\"+__YX\"))): 2.743866343309294e-09, (C, (stim.PauliString(\"+__YY\"), stim.PauliString(\"+__ZZ\"))): 3.346877975963636e-10, (C, (stim.PauliString(\"+___X\"), stim.PauliString(\"+__X_\"))): 3.346877975963636e-10, (A, (stim.PauliString(\"+___Y\"), stim.PauliString(\"+__Z_\"))): 3.656117441390804e-11, (A, (stim.PauliString(\"+__Z_\"), stim.PauliString(\"+__ZZ\"))): 7.886232657898631e-09, (A, (stim.PauliString(\"+__YX\"), stim.PauliString(\"+__ZY\"))): 1.5855839253262436e-10, (C, (stim.PauliString(\"+__XX\"), stim.PauliString(\"+__ZZ\"))): 3.1485517035998804e-08, (C, (stim.PauliString(\"+___Y\"), stim.PauliString(\"+__Y_\"))): 3.1485517035998804e-08, (A, (stim.PauliString(\"+__XX\"), stim.PauliString(\"+__ZY\"))): 3.604187530004226e-10, (C, (stim.PauliString(\"+__YX\"), stim.PauliString(\"+__ZZ\"))): 1.2519833029231625e-08, (C, (stim.PauliString(\"+___Y\"), stim.PauliString(\"+__X_\"))): -1.2519833029231625e-08, (A, (stim.PauliString(\"+___X\"), stim.PauliString(\"+__Z_\"))): 1.575892955605348e-08, (A, (stim.PauliString(\"+___Z\"), stim.PauliString(\"+__Y_\"))): -3.310362125011788e-11, (A, (stim.PauliString(\"+___Z\"), stim.PauliString(\"+__ZZ\"))): 8.517377174682687e-10, (C, (stim.PauliString(\"+__Y_\"), stim.PauliString(\"+__YX\"))): -3.1453316663726613e-07, (C, (stim.PauliString(\"+__X_\"), stim.PauliString(\"+__XX\"))): 3.1453316663726613e-07, (C, (stim.PauliString(\"+__Y_\"), stim.PauliString(\"+__YY\"))): -4.4426457799417374e-08, (C, (stim.PauliString(\"+__X_\"), stim.PauliString(\"+__XY\"))): 4.4426457799417374e-08, (A, (stim.PauliString(\"+__XZ\"), stim.PauliString(\"+__YY\"))): -5.766458525051134e-09, (A, (stim.PauliString(\"+__XZ\"), stim.PauliString(\"+__YX\"))): 4.5689913956486385e-11, (A, (stim.PauliString(\"+___Y\"), stim.PauliString(\"+__ZY\"))): 5.4888582391826885e-09, (C, (stim.PauliString(\"+__XY\"), stim.PauliString(\"+__YX\"))): -1.970475713209035e-08, (C, (stim.PauliString(\"+__XX\"), stim.PauliString(\"+__YY\"))): -1.970475713209035e-08, (A, (stim.PauliString(\"+__XY\"), stim.PauliString(\"+__YZ\"))): -1.9492198346828996e-08, (A, (stim.PauliString(\"+__Y_\"), stim.PauliString(\"+__YZ\"))): -3.5916189326911846e-09, (A, (stim.PauliString(\"+___X\"), stim.PauliString(\"+__ZX\"))): 6.697655090709081e-09, (A, (stim.PauliString(\"+__XX\"), stim.PauliString(\"+__YZ\"))): -7.214634092569796e-11, (A, (stim.PauliString(\"+___Z\"), stim.PauliString(\"+__X_\"))): -5.149658211911818e-10, (A, (stim.PauliString(\"+__X_\"), stim.PauliString(\"+__XZ\"))): -4.582335063379096e-09}\n"
     ]
    }
   ],
   "source": [
    "print(propagated_errorgen_layer_second_order)"
   ]
  },
  {
   "cell_type": "markdown",
   "id": "90409574-98b3-4fec-9b05-9c5adc9764af",
   "metadata": {},
   "source": [
    "Aside from the fact that there are now significantly more terms than was found for the first-order BCH approximation, notice that there are also now emergent second (and higher) order contributions due to C and A error generators which arise from the composition of purely H and S error generators. These additional terms arise from the non-commutivity of the elementary error generators, particularly the non-commutivity of H and S elementary error generators. For more on this phenomenon see [insert paper reference here]."
   ]
  },
  {
   "cell_type": "markdown",
   "id": "1e818c20-a1a7-4b1c-a068-e0ba548614f8",
   "metadata": {},
   "source": [
    "## Approximate Probabilities and Expectation Values\n",
    "Now you have an efficient representation for an approximation to the effective end-of-circuit error generator for your circuit, what can you do with it? In this section we show how to use this sparse representation to efficiently compute corrections to the outcome probability distributions and pauli observable expectation values of noisy clifford circuits."
   ]
  },
  {
   "cell_type": "markdown",
   "id": "405b95e6-15fc-4a2e-84d5-766a0573ee00",
   "metadata": {},
   "source": [
    "We'll start off by demonstrating how to perform strong simulation using the results of error generator propagation to estimate the output probabilities for a desired computational basis state. \n",
    "\n",
    "To do so we'll be making use of the function `approximate_stabilizer_probability` from the `errgenproptools` module. This function takes as input the following arguments:\n",
    "\n",
    "- errorgen_dict : A dictionary of elementary error generator coefficients and their corresponding rates (as outputted, for example, by `propagate_errorgens_bch`.\n",
    "- circuit : The circuit to compute the output probability for. This can by a pyGSTi `Circuit` object, or alternatively a `stim.Tableau`.\n",
    "- desired_bitstring : A string corresponding to the desired computational basis state.\n",
    "- order : Order of the taylor series approximation for the exponentiated error generator to use in computing the approximate output probability. In principle this function can compute       arbitary-order approximation (but practically the cost of the computation scales in the order).\n",
    "- truncation_threshold : As described above, this is a minimum value below which contributions are truncated to zero which can sometimes improve performance by reducing the number of terms   computed with very small overall corrections to the calculated probability. \n",
    "\n",
    "Let's use the results of the application of the second-order BCH approximation above and compute the approximate probability of reading out the all-zeros state from our circuit. For the ideal circuit, the probability of observing the all-zeros state is 0."
   ]
  },
  {
   "cell_type": "code",
   "execution_count": 18,
   "id": "4cc9e0a0-2da5-40fc-8556-4d3272f1b1be",
   "metadata": {},
   "outputs": [
    {
     "name": "stdout",
     "output_type": "stream",
     "text": [
      "0.0036337950714817775\n"
     ]
    }
   ],
   "source": [
    "first_order_approximate_prob = eprop.approximate_stabilizer_probability(propagated_errorgen_layer_second_order, c, '0000', order=1)\n",
    "print(first_order_approximate_prob)"
   ]
  },
  {
   "cell_type": "code",
   "execution_count": 19,
   "id": "ce153eee-90c3-4d8e-b25e-8ec849cde6c0",
   "metadata": {},
   "outputs": [
    {
     "name": "stdout",
     "output_type": "stream",
     "text": [
      "0.003403571491328329\n"
     ]
    }
   ],
   "source": [
    "second_order_approximate_prob = eprop.approximate_stabilizer_probability(propagated_errorgen_layer_second_order, c, '0000', order=2)\n",
    "print(second_order_approximate_prob)"
   ]
  },
  {
   "cell_type": "markdown",
   "id": "091dea97-7421-45f3-a1ab-0d17f90d1e88",
   "metadata": {},
   "source": [
    "In this few qubit test case we also have the luxury compare this to the results of the (effectively) exact forward simulation for the error model:"
   ]
  },
  {
   "cell_type": "code",
   "execution_count": 20,
   "id": "2978aee0-7447-452e-85b4-41bbbb79f738",
   "metadata": {},
   "outputs": [
    {
     "name": "stdout",
     "output_type": "stream",
     "text": [
      "0.0034166543832386833\n"
     ]
    }
   ],
   "source": [
    "exact_probability = error_model.sim.probs(c)['0000']\n",
    "print(exact_probability)"
   ]
  },
  {
   "cell_type": "code",
   "execution_count": 23,
   "id": "5fb5fb21-bc96-446b-859c-2252c385c55a",
   "metadata": {},
   "outputs": [
    {
     "name": "stdout",
     "output_type": "stream",
     "text": [
      "Absolute Error Approx to Exact (First-order Taylor, Second-order BCH): 0.00021714068824309424\n",
      "Absolute Error Approx to Exact (Second-order Taylor, Second-order BCH): 1.3082891910354364e-05\n"
     ]
    }
   ],
   "source": [
    "print(f'Absolute Error Approx to Exact (First-order Taylor, Second-order BCH): {abs(exact_probability-first_order_approximate_prob)}')\n",
    "print(f'Absolute Error Approx to Exact (Second-order Taylor, Second-order BCH): {abs(exact_probability-second_order_approximate_prob)}')"
   ]
  },
  {
   "cell_type": "code",
   "execution_count": 24,
   "id": "87e43f33-5b0a-436a-8048-7836879fd205",
   "metadata": {},
   "outputs": [
    {
     "name": "stdout",
     "output_type": "stream",
     "text": [
      "Relative Error Approx to Exact (First-order taylor, Second-order BCH): 6.355360065341588%\n",
      "Relative Error Approx to Exact (Second-order taylor, Second-order BCH): 0.38291528620910587%\n"
     ]
    }
   ],
   "source": [
    "print(f'Relative Error Approx to Exact (First-order taylor, Second-order BCH): {100*abs(exact_probability-first_order_approximate_prob)/exact_probability}%')\n",
    "print(f'Relative Error Approx to Exact (Second-order taylor, Second-order BCH): {100*abs(exact_probability-second_order_approximate_prob)/exact_probability}%')"
   ]
  },
  {
   "cell_type": "markdown",
   "id": "6bc34c95-9553-4c82-a80c-539c801b9029",
   "metadata": {},
   "source": [
    "Here we can see that with the combination of second-order BCH and second-order taylor approximations our estimated probability is accurate to well below a 1 percent relative error. By going out to higher-order in either approximation one can achieve even higher levels of accuracy."
   ]
  },
  {
   "cell_type": "markdown",
   "id": "f858f5fd-2bb0-4e38-bab6-9b061aa5a273",
   "metadata": {},
   "source": [
    "In addition to strong simulation of the output probabilities of computational basis states, it is also possible to compute approximate values for the expectation values of pauli observables. The main function for doing so is `approximate_stabilizer_pauli_expectation` from the `errgenproptools` module, the signature of which is nearly identical to that of `approximate_stabilizer_probability` described above, except taking instead a desired pauli observable to estimate the expectation value for. Here we'll again use the results of the second-order BCH approximation produced above and look are various order of the taylor series approximation for the pauli expectation value of 'XYZI' (the value for the ideal noise-free circuit is 1)."
   ]
  },
  {
   "cell_type": "code",
   "execution_count": 27,
   "id": "fa7c8e66-de23-41b5-8ec8-401d6e3c1bf7",
   "metadata": {},
   "outputs": [
    {
     "name": "stdout",
     "output_type": "stream",
     "text": [
      "0.9185921793543655\n"
     ]
    }
   ],
   "source": [
    "first_order_approximate_pauli_expectation = eprop.approximate_stabilizer_pauli_expectation(propagated_errorgen_layer_second_order, c, 'XYZI', order=1)\n",
    "print(first_order_approximate_pauli_expectation)"
   ]
  },
  {
   "cell_type": "code",
   "execution_count": 32,
   "id": "4b6bd6fb-f7e6-482a-97c4-20bcba5749a6",
   "metadata": {},
   "outputs": [
    {
     "name": "stdout",
     "output_type": "stream",
     "text": [
      "0.9129083343657568\n"
     ]
    }
   ],
   "source": [
    "second_order_approximate_pauli_expectation = eprop.approximate_stabilizer_pauli_expectation(propagated_errorgen_layer_second_order, c, 'XYZI', order=2)\n",
    "print(second_order_approximate_pauli_expectation)"
   ]
  },
  {
   "cell_type": "markdown",
   "id": "1c1efde8-7cf4-430a-94a6-376bdf991e67",
   "metadata": {},
   "source": [
    "There aren't existing built-in functions in pyGSTi for outputing exact pauli expectation values handy, but we can write a short helper function for computing these for the sake of comparison with our above results."
   ]
  },
  {
   "cell_type": "code",
   "execution_count": 36,
   "id": "17731ccb-2cd7-4d7e-8ed8-f21b199d95a3",
   "metadata": {},
   "outputs": [],
   "source": [
    "from pygsti.tools.basistools import change_basis\n",
    "import numpy as np\n",
    "from pygsti.baseobjs import Label\n",
    "def pauli_expectation_exact(error_propagator, target_model, circuit, pauli):\n",
    "    #get the eoc error channel, and the process matrix for the ideal circuit:\n",
    "    eoc_channel = error_propagator.eoc_error_channel(circuit, include_spam=True)\n",
    "    ideal_channel = target_model.sim.product(circuit)\n",
    "    #also get the ideal state prep and povm:\n",
    "    ideal_prep = target_model.circuit_layer_operator(Label('rho0'), typ='prep').copy()\n",
    "    \n",
    "    #finally need the superoperator for the selected pauli.\n",
    "    pauli_unitary = pauli.to_unitary_matrix(endian='big')\n",
    "    #flatten this row-wise\n",
    "    pauli_vec = np.ravel(pauli_unitary)\n",
    "    pauli_vec.reshape((len(pauli_vec),1))\n",
    "    #put this in pp basis (since these are paulis themselves I could just read this off directly).\n",
    "    pauli_vec = change_basis(pauli_vec, 'std', 'pp')\n",
    "    #print(pauli_vec)\n",
    "    dense_prep = ideal_prep.to_dense().copy()\n",
    "    expectation = np.linalg.multi_dot([pauli_vec.reshape((1,len(pauli_vec))), eoc_channel, ideal_channel, dense_prep.reshape((len(dense_prep),1))]).item()\n",
    "    return expectation"
   ]
  },
  {
   "cell_type": "code",
   "execution_count": 38,
   "id": "3ca1ba09-e416-475d-bb57-58eb28db08a0",
   "metadata": {},
   "outputs": [
    {
     "name": "stdout",
     "output_type": "stream",
     "text": [
      "0.9136050958830395\n"
     ]
    },
    {
     "name": "stderr",
     "output_type": "stream",
     "text": [
      "C:\\Users\\ciostro\\Documents\\pyGSTi_wildcard_integration\\pygsti\\forwardsims\\mapforwardsim.py:732: UserWarning: Generating dense process matrix representations of circuits or gates \n",
      "can be inefficient and should be avoided for the purposes of forward \n",
      "simulation/calculation of circuit outcome probability distributions \n",
      "when using the MapForwardSimulator.\n",
      "  _warnings.warn('Generating dense process matrix representations of circuits or gates \\n'\n"
     ]
    }
   ],
   "source": [
    "exact_pauli_expectation = pauli_expectation_exact(errorgen_propagator, target_model, c, stim.PauliString('XYZI'))\n",
    "print(exact_pauli_expectation)"
   ]
  },
  {
   "cell_type": "code",
   "execution_count": 39,
   "id": "407e0d72-ced0-4105-8a4f-463085406f18",
   "metadata": {},
   "outputs": [
    {
     "name": "stdout",
     "output_type": "stream",
     "text": [
      "Absolute Error Approx to Exact (First-order Taylor, Second-order BCH): 0.004987083471326037\n",
      "Absolute Error Approx to Exact (Second-order Taylor, Second-order BCH): 0.0006967615172827069\n"
     ]
    }
   ],
   "source": [
    "print(f'Absolute Error Approx to Exact (First-order Taylor, Second-order BCH): {abs(exact_pauli_expectation-first_order_approximate_pauli_expectation)}')\n",
    "print(f'Absolute Error Approx to Exact (Second-order Taylor, Second-order BCH): {abs(exact_pauli_expectation-second_order_approximate_pauli_expectation)}')"
   ]
  },
  {
   "cell_type": "code",
   "execution_count": 41,
   "id": "cf63b01d-244c-4943-b477-576b1be496f0",
   "metadata": {},
   "outputs": [
    {
     "name": "stdout",
     "output_type": "stream",
     "text": [
      "Relative Error Approx to Exact (First-order taylor, Second-order BCH): 0.5458686136711838%\n",
      "Relative Error Approx to Exact (Second-order taylor, Second-order BCH): 0.07626506467865705%\n"
     ]
    }
   ],
   "source": [
    "print(f'Relative Error Approx to Exact (First-order taylor, Second-order BCH): {100*abs(exact_pauli_expectation-first_order_approximate_pauli_expectation)/exact_pauli_expectation}%')\n",
    "print(f'Relative Error Approx to Exact (Second-order taylor, Second-order BCH): {100*abs(exact_pauli_expectation-second_order_approximate_pauli_expectation)/exact_pauli_expectation}%')"
   ]
  },
  {
   "cell_type": "markdown",
   "id": "da73f141-80a7-4383-94ae-a530273f3e3d",
   "metadata": {},
   "source": [
    "In this case even with the first-order taylor approximation together with the second-order BCH approximation the relative error to the exact expecation value is roughly half a percent, dropping to below a tenth of a percent when we go up to the second order taylor approximation. As before, by going out to higher-order in either approximation one can achieve even higher levels of accuracy."
   ]
  },
  {
   "cell_type": "markdown",
   "id": "5a4f38cd-4625-4ecf-9f69-3046d4a45ebd",
   "metadata": {},
   "source": [
    "## Other Helpful Utilities:\n",
    "In this section we'll highlight a few additional utilities within the error generator propagation related modules which are often useful."
   ]
  },
  {
   "cell_type": "code",
   "execution_count": null,
   "id": "a72ab84c-e489-4b9e-90f2-246689872336",
   "metadata": {},
   "outputs": [],
   "source": []
  }
 ],
 "metadata": {
  "kernelspec": {
   "display_name": "wildcard_integration",
   "language": "python",
   "name": "wildcard_integration"
  },
  "language_info": {
   "codemirror_mode": {
    "name": "ipython",
    "version": 3
   },
   "file_extension": ".py",
   "mimetype": "text/x-python",
   "name": "python",
   "nbconvert_exporter": "python",
   "pygments_lexer": "ipython3",
   "version": "3.9.13"
  }
 },
 "nbformat": 4,
 "nbformat_minor": 5
}
