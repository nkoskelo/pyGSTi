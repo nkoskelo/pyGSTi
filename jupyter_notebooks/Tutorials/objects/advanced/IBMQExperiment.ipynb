{
 "cells": [
  {
   "cell_type": "markdown",
   "metadata": {},
   "source": [
    "# Running experiments on IBM Q Processors\n",
    "This tutorial will demonstrate how to run an experiment on IBM Q Processors. To do so you will need [QisKit](https://qiskit.org/) installed and an [IBM Q account](https://quantum-computing.ibm.com/).\n",
    "\n",
    "<font style=\"color:red\">There have been major changes to `IBMQExperiment` as of pygsti 0.9.13. This is due to Qiskit 1.0 and subsequent deprecations of V1 backends and `qiskit-ibm-provider`. The `IBMQExperiment` class only supports V2 backends and is based on `qiskit-ibm-runtime`.\n",
    "\n",
    "For details on how to migrate from `qiskit<1` or `qiskit-ibm-provider`, see [this blog post](https://www.ibm.com/quantum/blog/transition-to-1), [this Qiskit 1.0 migration guide](https://docs.quantum.ibm.com/api/migration-guides/qiskit-1.0-features), or [this Qiskit Runtime migration guide](https://docs.quantum.ibm.com/api/migration-guides/qiskit-runtime).</font>\n",
    "\n",
    "This was last run with QisKit versions:"
   ]
  },
  {
   "cell_type": "code",
   "execution_count": 1,
   "metadata": {},
   "outputs": [],
   "source": [
    "#qiskit.__version__ = '1.1.1'\n",
    "#qiskit_ibm_runtime.__version__ = '0.25.0'"
   ]
  },
  {
   "cell_type": "code",
   "execution_count": 2,
   "metadata": {
    "tags": []
   },
   "outputs": [],
   "source": [
    "import pygsti\n",
    "from pygsti.extras.devices import ExperimentalDevice\n",
    "from pygsti.extras import ibmq\n",
    "from pygsti.processors import CliffordCompilationRules as CCR"
   ]
  },
  {
   "cell_type": "code",
   "execution_count": 3,
   "metadata": {
    "tags": [
     "nbval-skip"
    ]
   },
   "outputs": [],
   "source": [
    "from qiskit_ibm_runtime import QiskitRuntimeService\n",
    "from qiskit_ibm_runtime.fake_provider import FakeSherbrooke"
   ]
  },
  {
   "cell_type": "markdown",
   "metadata": {},
   "source": [
    "## Load your IBM Q access\n",
    "First, load you IBM Q account, get your `provider` and select a device. To do this, follow IBM Q's instructions."
   ]
  },
  {
   "cell_type": "code",
   "execution_count": 4,
   "metadata": {},
   "outputs": [],
   "source": [
    "# If your first time, you may need to initialize your account with your IBMQ API token\n",
    "\n",
    "# You can also specify instances (i.e. \"ibm-q/open/main\" is the default instance)\n",
    "# You can also save/load named accounts for different instances, etc. See save_account docs for more information.\n",
    "\n",
    "#QiskitRuntimeService.save_account(channel=\"ibm_quantum\", token=\"<IQP_TOKEN>\", overwrite=True, set_as_default=True)"
   ]
  },
  {
   "cell_type": "code",
   "execution_count": 5,
   "metadata": {},
   "outputs": [],
   "source": [
    "# Once credentials are saved, the service can be loaded each time:\n",
    "service = QiskitRuntimeService(channel=\"ibm_quantum\")"
   ]
  },
  {
   "cell_type": "code",
   "execution_count": 6,
   "metadata": {},
   "outputs": [
    {
     "data": {
      "text/plain": [
       "[<IBMBackend('ibm_brisbane')>,\n",
       " <IBMBackend('ibm_cusco')>,\n",
       " <IBMBackend('ibm_fez')>,\n",
       " <IBMBackend('ibm_kyiv')>,\n",
       " <IBMBackend('ibm_kyoto')>,\n",
       " <IBMBackend('ibm_nazca')>,\n",
       " <IBMBackend('ibm_osaka')>,\n",
       " <IBMBackend('ibm_sherbrooke')>,\n",
       " <IBMBackend('ibm_torino')>]"
      ]
     },
     "execution_count": 6,
     "metadata": {},
     "output_type": "execute_result"
    }
   ],
   "source": [
    "# You can list all the available backends to ensure your instance is running properly\n",
    "service.backends()"
   ]
  },
  {
   "cell_type": "code",
   "execution_count": 7,
   "metadata": {
    "tags": [
     "nbval-skip"
    ]
   },
   "outputs": [],
   "source": [
    "# Can use a physical device...\n",
    "backend = service.backend('ibm_sherbrooke')\n",
    "\n",
    "# Can also ask for the least busy device\n",
    "#backend = service.least_busy()\n",
    "\n",
    "# ... or can use a simulated fake backend\n",
    "sim_backend = FakeSherbrooke()"
   ]
  },
  {
   "cell_type": "markdown",
   "metadata": {},
   "source": [
    "## Make a ProcessorSpec for IBM Q's processor."
   ]
  },
  {
   "cell_type": "markdown",
   "metadata": {},
   "source": [
    "Next we create a ProcessorSpec for the device you're going to run on. This ProcessorSpec must also contain the details needed for creating the pyGSTi experiment design that you want to run, which you can tweak by varying the optional arguments to the `devices.create_processor_spec()` function.\n",
    "\n",
    "In `v0.9.12`, the `pygsti.extras.devices` module has been updated. You can still use the existing files in `pygsti.extras.devices` if you are offline, and thus may still want to add your own device files. However, you can now also simply use the IBMQ backend to create an `ExperimentalDevice` which is compatible with ProcessorSpecs and Models."
   ]
  },
  {
   "cell_type": "code",
   "execution_count": 8,
   "metadata": {
    "tags": [
     "nbval-skip"
    ]
   },
   "outputs": [],
   "source": [
    "# Using the configuration files in pygsti.extras.devices (legacy and may not be up-to-date)\n",
    "#device = ExperimentalDevice.from_legacy_device('ibmq_bogota')\n",
    "\n",
    "# Using the active backend to pull current device specification\n",
    "device = ExperimentalDevice.from_qiskit_backend(sim_backend)"
   ]
  },
  {
   "cell_type": "code",
   "execution_count": 10,
   "metadata": {
    "tags": []
   },
   "outputs": [],
   "source": [
    "pspec = device.create_processor_spec(['Gc{}'.format(i) for i in range(24)] + ['Gcnot'])"
   ]
  },
  {
   "cell_type": "markdown",
   "metadata": {},
   "source": [
    "## Create an ExperimentDesign\n",
    "Next we create an `ExperimentDesign` that specifies the circuits you want to run on that device. Here we create a very simple mirror circuit benchmarking experiment. We'll use randomized mirror circuits, constructed using a `MirrorRBDesign`.\n",
    "\n",
    "First we pick the circuit design parameters:"
   ]
  },
  {
   "cell_type": "code",
   "execution_count": 11,
   "metadata": {
    "tags": []
   },
   "outputs": [
    {
     "name": "stdout",
     "output_type": "stream",
     "text": [
      "total circuits: 480\n",
      "full total circuits: 480\n"
     ]
    }
   ],
   "source": [
    "#circuit design parameters\n",
    "depths = [0, 2, 4, 16, 32, 64]\n",
    "circuits_per_shape = 20\n",
    "\n",
    "# dict setting the circuit widths (# qubits) you want to probe \n",
    "# and the qubits you want to use at each width\n",
    "# You can use device.graph.edges() to make sure these are connected components\n",
    "qubit_lists = {}\n",
    "qubit_lists[1] = [('Q0',),]\n",
    "qubit_lists[2] = [('Q0', 'Q1'),]\n",
    "qubit_lists[3] = [('Q0', 'Q1', 'Q2'),]\n",
    "qubit_lists[4] = [('Q0', 'Q1', 'Q2', 'Q3')]\n",
    "\n",
    "widths = list(qubit_lists.keys())\n",
    "\n",
    "print('total circuits: {}'.format(circuits_per_shape*len(widths)*len(depths)))\n",
    "total_circuits = 0\n",
    "for w in widths:\n",
    "    total_circuits += len(qubit_lists[w]) * circuits_per_shape * len(depths)\n",
    "print('full total circuits: {}'.format(total_circuits) )\n",
    "\n",
    "# We'll use the `edgegrab` sampler, which requires specifying the expected number\n",
    "# of two-qubit gates per random layer.\n",
    "twoQmean = {w:w/8 for w in widths}\n",
    "if 1 in widths: twoQmean[1] = 0 # No two-qubit gates in one-qubit circuits."
   ]
  },
  {
   "cell_type": "code",
   "execution_count": 12,
   "metadata": {},
   "outputs": [],
   "source": [
    "# In order to do Mirror RB, we need some Clifford compilations. See the RB-MirrorRB tutorial for more details.\n",
    "compilations = {'absolute': CCR.create_standard(pspec, 'absolute', ('paulis', '1Qcliffords'), verbosity=0)}"
   ]
  },
  {
   "cell_type": "code",
   "execution_count": 13,
   "metadata": {
    "tags": []
   },
   "outputs": [
    {
     "name": "stdout",
     "output_type": "stream",
     "text": [
      "- Sampling 20 circuits at MRB length 0 (1 of 6 depths) with seed 488082\n",
      "- Sampling 20 circuits at MRB length 2 (2 of 6 depths) with seed 488102\n",
      "- Sampling 20 circuits at MRB length 4 (3 of 6 depths) with seed 488122\n",
      "- Sampling 20 circuits at MRB length 16 (4 of 6 depths) with seed 488142\n",
      "- Sampling 20 circuits at MRB length 32 (5 of 6 depths) with seed 488162\n",
      "- Sampling 20 circuits at MRB length 64 (6 of 6 depths) with seed 488182\n",
      "- Sampling 20 circuits at MRB length 0 (1 of 6 depths) with seed 937591\n",
      "- Sampling 20 circuits at MRB length 2 (2 of 6 depths) with seed 937611\n",
      "- Sampling 20 circuits at MRB length 4 (3 of 6 depths) with seed 937631\n",
      "- Sampling 20 circuits at MRB length 16 (4 of 6 depths) with seed 937651\n",
      "- Sampling 20 circuits at MRB length 32 (5 of 6 depths) with seed 937671\n",
      "- Sampling 20 circuits at MRB length 64 (6 of 6 depths) with seed 937691\n",
      "- Sampling 20 circuits at MRB length 0 (1 of 6 depths) with seed 551098\n",
      "- Sampling 20 circuits at MRB length 2 (2 of 6 depths) with seed 551118\n",
      "- Sampling 20 circuits at MRB length 4 (3 of 6 depths) with seed 551138\n",
      "- Sampling 20 circuits at MRB length 16 (4 of 6 depths) with seed 551158\n",
      "- Sampling 20 circuits at MRB length 32 (5 of 6 depths) with seed 551178\n",
      "- Sampling 20 circuits at MRB length 64 (6 of 6 depths) with seed 551198\n",
      "- Sampling 20 circuits at MRB length 0 (1 of 6 depths) with seed 754211\n",
      "- Sampling 20 circuits at MRB length 2 (2 of 6 depths) with seed 754231\n",
      "- Sampling 20 circuits at MRB length 4 (3 of 6 depths) with seed 754251\n",
      "- Sampling 20 circuits at MRB length 16 (4 of 6 depths) with seed 754271\n",
      "- Sampling 20 circuits at MRB length 32 (5 of 6 depths) with seed 754291\n",
      "- Sampling 20 circuits at MRB length 64 (6 of 6 depths) with seed 754311\n"
     ]
    }
   ],
   "source": [
    "edesigns_dict = {}\n",
    "edesign_index = 1\n",
    "for w in widths:\n",
    "    for qubits in qubit_lists[w]:\n",
    "        sub_edesign = pygsti.protocols.MirrorRBDesign(pspec, depths, circuits_per_shape, qubit_labels=qubits,\n",
    "                                                      clifford_compilations=compilations, sampler='edgegrab', samplerargs=[twoQmean[w],])\n",
    "        \n",
    "        edesigns_dict[str(edesign_index)] = sub_edesign\n",
    "        edesign_index += 1\n",
    "        \n",
    "combined_edesign = pygsti.protocols.CombinedExperimentDesign(edesigns_dict)"
   ]
  },
  {
   "cell_type": "markdown",
   "metadata": {},
   "source": [
    "## Running on IBM Q\n",
    "We're now ready to run on the IBM Q processor. We do this using an `IBMQExperiment` object.\n",
    "\n",
    "We can enable checkpointing for `IBMQExperiment` objects by providing a path. This is the default and is recommended!"
   ]
  },
  {
   "cell_type": "code",
   "execution_count": 14,
   "metadata": {
    "tags": [
     "nbval-skip"
    ]
   },
   "outputs": [],
   "source": [
    "exp = ibmq.IBMQExperiment(combined_edesign, pspec, circuits_per_batch=75, num_shots=1024, seed=20231201, checkpoint_path='test_ibmq')"
   ]
  },
  {
   "cell_type": "markdown",
   "metadata": {},
   "source": [
    "First we convert pyGSTi circuits into jobs that can be submitted to IBM Q. **This step includes transpiling of the pyGSTi circuits into OpenQASM** (and then into QisKit objects)."
   ]
  },
  {
   "cell_type": "code",
   "execution_count": 15,
   "metadata": {},
   "outputs": [
    {
     "name": "stdout",
     "output_type": "stream",
     "text": [
      "Transpiling circuit batch 1/7\n",
      "Transpiling circuit batch 2/7\n",
      "Transpiling circuit batch 3/7\n",
      "Transpiling circuit batch 4/7\n",
      "Transpiling circuit batch 5/7\n",
      "Transpiling circuit batch 6/7\n",
      "Transpiling circuit batch 7/7\n"
     ]
    }
   ],
   "source": [
    "# Provide the directory name to enable transpilation checkpointing\n",
    "exp.transpile()"
   ]
  },
  {
   "cell_type": "code",
   "execution_count": 16,
   "metadata": {},
   "outputs": [
    {
     "name": "stdout",
     "output_type": "stream",
     "text": [
      "Already completed transpilation of 4/7 circuit batches\n",
      "Transpiling circuit batch 5/7\n",
      "Transpiling circuit batch 6/7\n",
      "Transpiling circuit batch 7/7\n"
     ]
    }
   ],
   "source": [
    "# We can simulate having been interrupted by removing the last few transpiled batches\n",
    "del exp.qasm_circuit_batches[4:]\n",
    "del exp.qiskit_circuit_batches[4:]\n",
    "\n",
    "# And now transpilation should only redo the missing batches\n",
    "exp.transpile()\n"
   ]
  },
  {
   "cell_type": "markdown",
   "metadata": {},
   "source": [
    "If the `IBMQExperiment` object is lost and needs to be reloaded (i.e. notebook restarts), it can be loaded from file now.\n",
    "\n",
    "However, the Qiskit circuits are not automatically regenerated from the transpiled QASM during loading for speed. They can (and need to be regenerated if calling `submit()`) by passing in the `regen_circs=True` flag to `from_dir()`."
   ]
  },
  {
   "cell_type": "code",
   "execution_count": 18,
   "metadata": {},
   "outputs": [],
   "source": [
    "exp2 = ibmq.IBMQExperiment.from_dir('test_ibmq', regen_circs=True)"
   ]
  },
  {
   "cell_type": "markdown",
   "metadata": {},
   "source": [
    "We're now ready to submit this experiment to IBM Q.Note that we can submit using a different backend than what was used to generate the experiment design. In general, it is not a good idea to mix and match backends for physical devices unless they have the exact same connectivity and qubit labeling; however, it **is** often useful for debugging purposes to use the simulator backend rather than a physical device."
   ]
  },
  {
   "cell_type": "code",
   "execution_count": 19,
   "metadata": {
    "tags": [
     "nbval-skip"
    ]
   },
   "outputs": [
    {
     "name": "stdout",
     "output_type": "stream",
     "text": [
      "Submitting batch 1\n",
      "An exception of type IBMInputValueError occurred. Arguments:\n",
      "('The instruction cx on qubits (1, 0) is not supported by the target system. Circuits that do not match the target hardware definition are no longer supported after March 4, 2024. See the transpilation documentation (https://docs.quantum.ibm.com/transpile) for instructions to transform circuits and the primitive examples (https://docs.quantum.ibm.com/run/primitives-examples) to see this coupled with operator transformations.',)\n",
      "Failed to get machine status!\n",
      "An exception of type IBMInputValueError occurred. Arguments:\n",
      "(\"'FakeSherbrooke' object has no attribute 'status'\",)\n",
      "This batch has failed 1 times and there have been 1 total failures\n",
      "WaitingAn exception of type IBMInputValueError occurred. Arguments:\n",
      "('The instruction cx on qubits (1, 0) is not supported by the target system. Circuits that do not match the target hardware definition are no longer supported after March 4, 2024. See the transpilation documentation (https://docs.quantum.ibm.com/transpile) for instructions to transform circuits and the primitive examples (https://docs.quantum.ibm.com/run/primitives-examples) to see this coupled with operator transformations.',)\n",
      "Failed to get machine status!\n",
      "An exception of type IBMInputValueError occurred. Arguments:\n",
      "(\"'FakeSherbrooke' object has no attribute 'status'\",)\n",
      "This batch has failed 2 times and there have been 2 total failures\n",
      "Waiting"
     ]
    },
    {
     "ename": "KeyboardInterrupt",
     "evalue": "",
     "output_type": "error",
     "traceback": [
      "\u001b[0;31m---------------------------------------------------------------------------\u001b[0m",
      "\u001b[0;31mIBMInputValueError\u001b[0m                        Traceback (most recent call last)",
      "File \u001b[0;32m~/Documents/repos/pyGSTi/pygsti/extras/ibmq/ibmqexperiment.py:392\u001b[0m, in \u001b[0;36mIBMQExperiment.submit\u001b[0;34m(self, ibmq_backend, start, stop, ibm_opt_level, ignore_job_limit, wait_time, max_attempts)\u001b[0m\n\u001b[1;32m    391\u001b[0m \u001b[38;5;66;03m# Submit job\u001b[39;00m\n\u001b[0;32m--> 392\u001b[0m \u001b[38;5;28mself\u001b[39m\u001b[38;5;241m.\u001b[39mqjobs\u001b[38;5;241m.\u001b[39mappend(\u001b[43msampler\u001b[49m\u001b[38;5;241;43m.\u001b[39;49m\u001b[43mrun\u001b[49m\u001b[43m(\u001b[49m\u001b[43mbatch\u001b[49m\u001b[43m,\u001b[49m\u001b[43m \u001b[49m\u001b[43mshots\u001b[49m\u001b[43m \u001b[49m\u001b[38;5;241;43m=\u001b[39;49m\u001b[43m \u001b[49m\u001b[38;5;28;43mself\u001b[39;49m\u001b[38;5;241;43m.\u001b[39;49m\u001b[43mnum_shots\u001b[49m\u001b[43m)\u001b[49m)\n\u001b[1;32m    394\u001b[0m status \u001b[38;5;241m=\u001b[39m \u001b[38;5;28mself\u001b[39m\u001b[38;5;241m.\u001b[39mqjobs[\u001b[38;5;241m-\u001b[39m\u001b[38;5;241m1\u001b[39m]\u001b[38;5;241m.\u001b[39mstatus()\n",
      "File \u001b[0;32m/opt/homebrew/Caskroom/miniconda/base/envs/pygsti/lib/python3.12/site-packages/qiskit_ibm_runtime/sampler.py:151\u001b[0m, in \u001b[0;36mSamplerV2.run\u001b[0;34m(self, pubs, shots)\u001b[0m\n\u001b[1;32m    149\u001b[0m validate_classical_registers(coerced_pubs)\n\u001b[0;32m--> 151\u001b[0m \u001b[38;5;28;01mreturn\u001b[39;00m \u001b[38;5;28;43mself\u001b[39;49m\u001b[38;5;241;43m.\u001b[39;49m\u001b[43m_run\u001b[49m\u001b[43m(\u001b[49m\u001b[43mcoerced_pubs\u001b[49m\u001b[43m)\u001b[49m\n",
      "File \u001b[0;32m/opt/homebrew/Caskroom/miniconda/base/envs/pygsti/lib/python3.12/site-packages/qiskit_ibm_runtime/base_primitive.py:135\u001b[0m, in \u001b[0;36mBasePrimitiveV2._run\u001b[0;34m(self, pubs)\u001b[0m\n\u001b[1;32m    134\u001b[0m \u001b[38;5;28;01mif\u001b[39;00m \u001b[38;5;28mgetattr\u001b[39m(\u001b[38;5;28mself\u001b[39m\u001b[38;5;241m.\u001b[39m_backend, \u001b[38;5;124m\"\u001b[39m\u001b[38;5;124mtarget\u001b[39m\u001b[38;5;124m\"\u001b[39m, \u001b[38;5;28;01mNone\u001b[39;00m) \u001b[38;5;129;01mand\u001b[39;00m \u001b[38;5;129;01mnot\u001b[39;00m is_simulator(\u001b[38;5;28mself\u001b[39m\u001b[38;5;241m.\u001b[39m_backend):\n\u001b[0;32m--> 135\u001b[0m     \u001b[43mvalidate_isa_circuits\u001b[49m\u001b[43m(\u001b[49m\u001b[43m[\u001b[49m\u001b[43mpub\u001b[49m\u001b[38;5;241;43m.\u001b[39;49m\u001b[43mcircuit\u001b[49m\u001b[43m]\u001b[49m\u001b[43m,\u001b[49m\u001b[43m \u001b[49m\u001b[38;5;28;43mself\u001b[39;49m\u001b[38;5;241;43m.\u001b[39;49m\u001b[43m_backend\u001b[49m\u001b[38;5;241;43m.\u001b[39;49m\u001b[43mtarget\u001b[49m\u001b[43m)\u001b[49m\n\u001b[1;32m    137\u001b[0m \u001b[38;5;28;01mif\u001b[39;00m \u001b[38;5;28misinstance\u001b[39m(\u001b[38;5;28mself\u001b[39m\u001b[38;5;241m.\u001b[39m_backend, IBMBackend):\n",
      "File \u001b[0;32m/opt/homebrew/Caskroom/miniconda/base/envs/pygsti/lib/python3.12/site-packages/qiskit_ibm_runtime/utils/validations.py:89\u001b[0m, in \u001b[0;36mvalidate_isa_circuits\u001b[0;34m(circuits, target)\u001b[0m\n\u001b[1;32m     88\u001b[0m \u001b[38;5;28;01mif\u001b[39;00m message:\n\u001b[0;32m---> 89\u001b[0m     \u001b[38;5;28;01mraise\u001b[39;00m IBMInputValueError(\n\u001b[1;32m     90\u001b[0m         message\n\u001b[1;32m     91\u001b[0m         \u001b[38;5;241m+\u001b[39m \u001b[38;5;124m\"\u001b[39m\u001b[38;5;124m Circuits that do not match the target hardware definition are no longer \u001b[39m\u001b[38;5;124m\"\u001b[39m\n\u001b[1;32m     92\u001b[0m         \u001b[38;5;124m\"\u001b[39m\u001b[38;5;124msupported after March 4, 2024. See the transpilation documentation \u001b[39m\u001b[38;5;124m\"\u001b[39m\n\u001b[1;32m     93\u001b[0m         \u001b[38;5;124m\"\u001b[39m\u001b[38;5;124m(https://docs.quantum.ibm.com/transpile) for instructions to transform circuits and \u001b[39m\u001b[38;5;124m\"\u001b[39m\n\u001b[1;32m     94\u001b[0m         \u001b[38;5;124m\"\u001b[39m\u001b[38;5;124mthe primitive examples (https://docs.quantum.ibm.com/run/primitives-examples) to see \u001b[39m\u001b[38;5;124m\"\u001b[39m\n\u001b[1;32m     95\u001b[0m         \u001b[38;5;124m\"\u001b[39m\u001b[38;5;124mthis coupled with operator transformations.\u001b[39m\u001b[38;5;124m\"\u001b[39m\n\u001b[1;32m     96\u001b[0m     )\n",
      "\u001b[0;31mIBMInputValueError\u001b[0m: 'The instruction cx on qubits (1, 0) is not supported by the target system. Circuits that do not match the target hardware definition are no longer supported after March 4, 2024. See the transpilation documentation (https://docs.quantum.ibm.com/transpile) for instructions to transform circuits and the primitive examples (https://docs.quantum.ibm.com/run/primitives-examples) to see this coupled with operator transformations.'",
      "\nDuring handling of the above exception, another exception occurred:\n",
      "\u001b[0;31mKeyboardInterrupt\u001b[0m                         Traceback (most recent call last)",
      "Cell \u001b[0;32mIn[19], line 2\u001b[0m\n\u001b[1;32m      1\u001b[0m \u001b[38;5;66;03m# Again, we can checkpoint by passing in dirname\u001b[39;00m\n\u001b[0;32m----> 2\u001b[0m \u001b[43mexp2\u001b[49m\u001b[38;5;241;43m.\u001b[39;49m\u001b[43msubmit\u001b[49m\u001b[43m(\u001b[49m\u001b[43msim_backend\u001b[49m\u001b[43m)\u001b[49m\n",
      "File \u001b[0;32m~/Documents/repos/pyGSTi/pygsti/extras/ibmq/ibmqexperiment.py:436\u001b[0m, in \u001b[0;36mIBMQExperiment.submit\u001b[0;34m(self, ibmq_backend, start, stop, ibm_opt_level, ignore_job_limit, wait_time, max_attempts)\u001b[0m\n\u001b[1;32m    433\u001b[0m     \u001b[38;5;28mprint\u001b[39m(\u001b[38;5;124m\"\u001b[39m\u001b[38;5;124mThis batch has failed \u001b[39m\u001b[38;5;132;01m{0}\u001b[39;00m\u001b[38;5;124m times and there have been \u001b[39m\u001b[38;5;132;01m{1}\u001b[39;00m\u001b[38;5;124m total failures\u001b[39m\u001b[38;5;124m\"\u001b[39m\u001b[38;5;241m.\u001b[39mformat(\n\u001b[1;32m    434\u001b[0m         batch_waits, total_waits))\n\u001b[1;32m    435\u001b[0m     \u001b[38;5;28mprint\u001b[39m(\u001b[38;5;124m'\u001b[39m\u001b[38;5;124mWaiting\u001b[39m\u001b[38;5;124m'\u001b[39m, end\u001b[38;5;241m=\u001b[39m\u001b[38;5;124m'\u001b[39m\u001b[38;5;124m'\u001b[39m)\n\u001b[0;32m--> 436\u001b[0m     \u001b[43m_time\u001b[49m\u001b[38;5;241;43m.\u001b[39;49m\u001b[43msleep\u001b[49m\u001b[43m(\u001b[49m\u001b[43mwait_time\u001b[49m\u001b[43m)\u001b[49m\n\u001b[1;32m    437\u001b[0m \u001b[38;5;28;01mfinally\u001b[39;00m:\n\u001b[1;32m    438\u001b[0m     \u001b[38;5;66;03m# Checkpoint calibration and job id data\u001b[39;00m\n\u001b[1;32m    439\u001b[0m     \u001b[38;5;28;01mif\u001b[39;00m \u001b[38;5;129;01mnot\u001b[39;00m \u001b[38;5;28mself\u001b[39m\u001b[38;5;241m.\u001b[39mdisable_checkpointing:\n",
      "\u001b[0;31mKeyboardInterrupt\u001b[0m: "
     ]
    }
   ],
   "source": [
    "# Again, we can checkpoint by passing in dirname\n",
    "exp2.submit(sim_backend)"
   ]
  },
  {
   "cell_type": "markdown",
   "metadata": {},
   "source": [
    "You can then monitor the jobs. If get an error message, you can query the error using `exp.qjobs[i].error_message()` for batch `i`."
   ]
  },
  {
   "cell_type": "code",
   "execution_count": null,
   "metadata": {
    "tags": [
     "nbval-skip"
    ]
   },
   "outputs": [],
   "source": [
    "exp2.monitor()"
   ]
  },
  {
   "cell_type": "markdown",
   "metadata": {},
   "source": [
    "Again, the `IBMQExperiment` can be loaded from file if checkpointing is being used. The Qiskit RuntimeJobs are not serialized; however, they can be retrieved from the IBMQ service from their job ids. In order to do this, pass `regen_jobs=True` and a `service` to the `from_dir()` call."
   ]
  },
  {
   "cell_type": "code",
   "execution_count": null,
   "metadata": {
    "tags": [
     "nbval-skip"
    ]
   },
   "outputs": [],
   "source": [
    "exp3 = ibmq.IBMQExperiment.from_dir('test_ibmq', regen_jobs=True, service=service)"
   ]
  },
  {
   "cell_type": "code",
   "execution_count": null,
   "metadata": {
    "tags": [
     "nbval-skip"
    ]
   },
   "outputs": [],
   "source": [
    "exp3.monitor()"
   ]
  },
  {
   "cell_type": "markdown",
   "metadata": {},
   "source": [
    "You can then grab the results, **Once you see that all the jobs are complete** (`.retrieve_results()` will just hang if the jobs have not yet completed)."
   ]
  },
  {
   "cell_type": "code",
   "execution_count": null,
   "metadata": {
    "tags": [
     "nbval-skip"
    ]
   },
   "outputs": [],
   "source": [
    "exp3.retrieve_results()"
   ]
  },
  {
   "cell_type": "markdown",
   "metadata": {},
   "source": [
    "This `IBMQExperiment` object now contains the results of your experiment. It contains much of the information about exactly what was submitted to IBM Q, and raw results objects that IBM Q returned."
   ]
  },
  {
   "cell_type": "code",
   "execution_count": null,
   "metadata": {
    "tags": [
     "nbval-skip"
    ]
   },
   "outputs": [],
   "source": [
    "display(exp3.qjobs)\n",
    "display(exp3.batch_results)"
   ]
  },
  {
   "cell_type": "markdown",
   "metadata": {},
   "source": [
    "But, most importantly, it contains the data formatted into a pyGSTi `ProtocolData` object, which is the packaged-up data that pyGSTi analysis proctols use."
   ]
  },
  {
   "cell_type": "code",
   "execution_count": null,
   "metadata": {
    "tags": [
     "nbval-skip"
    ]
   },
   "outputs": [],
   "source": [
    "data = exp3.data"
   ]
  },
  {
   "cell_type": "markdown",
   "metadata": {},
   "source": [
    "## Analyzing the results\n",
    "Because `retrieve_results()` has formatted the data into a `ProctocolData` object, we can just hand this to the analysis protocol(s) that are designed for analyzing this type of data. Here we'll analyze this data using a standard RB curve-fitting analysis."
   ]
  },
  {
   "cell_type": "code",
   "execution_count": null,
   "metadata": {
    "tags": [
     "nbval-skip"
    ]
   },
   "outputs": [],
   "source": [
    "rb = pygsti.protocols.RandomizedBenchmarking(datatype='adjusted_success_probabilities', defaultfit='A-fixed')\n",
    "results = {}\n",
    "for key in data.keys():\n",
    "    results[key] = rb.run(data[key])"
   ]
  },
  {
   "cell_type": "code",
   "execution_count": null,
   "metadata": {
    "tags": [
     "nbval-skip"
    ]
   },
   "outputs": [],
   "source": [
    "ws = pygsti.report.Workspace()\n",
    "ws.init_notebook_mode(autodisplay=True)"
   ]
  },
  {
   "cell_type": "code",
   "execution_count": null,
   "metadata": {
    "tags": [
     "nbval-skip"
    ]
   },
   "outputs": [],
   "source": [
    "for i in data.keys(): \n",
    "    print(i)\n",
    "    ws.RandomizedBenchmarkingPlot(results[i])"
   ]
  },
  {
   "cell_type": "code",
   "execution_count": null,
   "metadata": {},
   "outputs": [],
   "source": []
  }
 ],
 "metadata": {
  "kernelspec": {
   "display_name": "Python 3 (ipykernel)",
   "language": "python",
   "name": "python3"
  },
  "language_info": {
   "codemirror_mode": {
    "name": "ipython",
    "version": 3
   },
   "file_extension": ".py",
   "mimetype": "text/x-python",
   "name": "python",
   "nbconvert_exporter": "python",
   "pygments_lexer": "ipython3",
   "version": "3.12.4"
  }
 },
 "nbformat": 4,
 "nbformat_minor": 4
}
