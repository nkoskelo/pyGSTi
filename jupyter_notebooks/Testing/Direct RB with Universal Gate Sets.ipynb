{
 "cells": [
  {
   "cell_type": "code",
   "execution_count": 1,
   "id": "e70462d8",
   "metadata": {},
   "outputs": [],
   "source": [
    "import pygsti\n",
    "import pygsti.algorithms.randomcircuit as rc\n",
    "#note: you need qsearch to run this"
   ]
  },
  {
   "cell_type": "code",
   "execution_count": 2,
   "id": "cd0b8e22",
   "metadata": {},
   "outputs": [],
   "source": [
    "num_qubits = 2\n",
    "qubit_labels = tuple((f'Q{i}' for i in range(num_qubits))) #Usually I use this convention for qubit labels. The default is natural numbers 0, ..., n-1\n",
    "gates = ['Gxpi2', 'Gzr', 'Gcphase'] #list of all of the gates\n",
    "availability = {'Gcphase': [('Q0', 'Q1'),('Q1', 'Q0')]} #specify connectivity as a dictionary with gate names and a list of connected qubit pairs"
   ]
  },
  {
   "cell_type": "code",
   "execution_count": 3,
   "id": "9dfaedea",
   "metadata": {},
   "outputs": [],
   "source": [
    "c = pygsti.circuits.Circuit(None, stringrep='')"
   ]
  },
  {
   "cell_type": "code",
   "execution_count": 4,
   "id": "16a7de2f",
   "metadata": {},
   "outputs": [
    {
     "ename": "NameError",
     "evalue": "name 'ps' is not defined",
     "output_type": "error",
     "traceback": [
      "\u001b[0;31m---------------------------------------------------------------------------\u001b[0m",
      "\u001b[0;31mNameError\u001b[0m                                 Traceback (most recent call last)",
      "Cell \u001b[0;32mIn [4], line 1\u001b[0m\n\u001b[0;32m----> 1\u001b[0m model \u001b[38;5;241m=\u001b[39m pygsti\u001b[38;5;241m.\u001b[39mmodels\u001b[38;5;241m.\u001b[39mcreate_crosstalk_free_model(\u001b[43mps\u001b[49m, evotype\u001b[38;5;241m=\u001b[39m\u001b[38;5;124m'\u001b[39m\u001b[38;5;124mstatevec\u001b[39m\u001b[38;5;124m'\u001b[39m, simulator\u001b[38;5;241m=\u001b[39m\u001b[38;5;124m'\u001b[39m\u001b[38;5;124mmatrix\u001b[39m\u001b[38;5;124m'\u001b[39m)\n",
      "\u001b[0;31mNameError\u001b[0m: name 'ps' is not defined"
     ]
    }
   ],
   "source": [
    "model = pygsti.models.create_crosstalk_free_model(ps, evotype='statevec', simulator='matrix')"
   ]
  },
  {
   "cell_type": "code",
   "execution_count": 18,
   "id": "7ac7ac09",
   "metadata": {},
   "outputs": [],
   "source": [
    "? model.circuit_layer_operator"
   ]
  },
  {
   "cell_type": "code",
   "execution_count": 21,
   "id": "b94e35b3",
   "metadata": {},
   "outputs": [],
   "source": [
    "? pygsti.forwardsims.MatrixForwardSimulator"
   ]
  },
  {
   "cell_type": "code",
   "execution_count": 15,
   "id": "734900cb",
   "metadata": {},
   "outputs": [],
   "source": [
    "? pygsti.forwardsims.MatrixForwardSimulator"
   ]
  },
  {
   "cell_type": "code",
   "execution_count": null,
   "id": "ea7c4190",
   "metadata": {},
   "outputs": [],
   "source": [
    "ps = pygsti.processors.processorspec.QubitProcessorSpec(num_qubits, gates, qubit_labels=qubit_labels, availability=availability)"
   ]
  },
  {
   "cell_type": "code",
   "execution_count": null,
   "id": "a1f130f7",
   "metadata": {},
   "outputs": [],
   "source": [
    "#create a depth 1 DRB circuit\n",
    "rc.create_udrb_circuit(ps, 2, layer_type='standard')"
   ]
  },
  {
   "cell_type": "code",
   "execution_count": 6,
   "id": "70750a22",
   "metadata": {},
   "outputs": [
    {
     "name": "stdout",
     "output_type": "stream",
     "text": [
      "NOTE: Enter 'c' at the ipdb>  prompt to continue execution.\n",
      "> \u001b[0;32m<string>\u001b[0m(1)\u001b[0;36m<module>\u001b[0;34m()\u001b[0m\n",
      "\n",
      "ipdb> u\n",
      "> \u001b[0;32m/home/jordanh/.pyenv/versions/3.8.0/lib/python3.8/bdb.py\u001b[0m(587)\u001b[0;36mrun\u001b[0;34m()\u001b[0m\n",
      "\u001b[0;32m    585 \u001b[0;31m        \u001b[0msys\u001b[0m\u001b[0;34m.\u001b[0m\u001b[0msettrace\u001b[0m\u001b[0;34m(\u001b[0m\u001b[0mself\u001b[0m\u001b[0;34m.\u001b[0m\u001b[0mtrace_dispatch\u001b[0m\u001b[0;34m)\u001b[0m\u001b[0;34m\u001b[0m\u001b[0;34m\u001b[0m\u001b[0m\n",
      "\u001b[0m\u001b[0;32m    586 \u001b[0;31m        \u001b[0;32mtry\u001b[0m\u001b[0;34m:\u001b[0m\u001b[0;34m\u001b[0m\u001b[0;34m\u001b[0m\u001b[0m\n",
      "\u001b[0m\u001b[0;32m--> 587 \u001b[0;31m            \u001b[0mexec\u001b[0m\u001b[0;34m(\u001b[0m\u001b[0mcmd\u001b[0m\u001b[0;34m,\u001b[0m \u001b[0mglobals\u001b[0m\u001b[0;34m,\u001b[0m \u001b[0mlocals\u001b[0m\u001b[0;34m)\u001b[0m\u001b[0;34m\u001b[0m\u001b[0;34m\u001b[0m\u001b[0m\n",
      "\u001b[0m\u001b[0;32m    588 \u001b[0;31m        \u001b[0;32mexcept\u001b[0m \u001b[0mBdbQuit\u001b[0m\u001b[0;34m:\u001b[0m\u001b[0;34m\u001b[0m\u001b[0;34m\u001b[0m\u001b[0m\n",
      "\u001b[0m\u001b[0;32m    589 \u001b[0;31m            \u001b[0;32mpass\u001b[0m\u001b[0;34m\u001b[0m\u001b[0;34m\u001b[0m\u001b[0m\n",
      "\u001b[0m\n",
      "ipdb> u\n",
      "*** Oldest frame\n",
      "ipdb> q\n"
     ]
    }
   ],
   "source": [
    "%debug #why is there an empty layer"
   ]
  },
  {
   "cell_type": "code",
   "execution_count": null,
   "id": "5277e1c0",
   "metadata": {},
   "outputs": [],
   "source": []
  },
  {
   "cell_type": "code",
   "execution_count": 6,
   "id": "79328a3a",
   "metadata": {},
   "outputs": [
    {
     "ename": "TypeError",
     "evalue": "create_udrb_edesign() got an unexpected keyword argument 'layer_type'",
     "output_type": "error",
     "traceback": [
      "\u001b[0;31m---------------------------------------------------------------------------\u001b[0m",
      "\u001b[0;31mTypeError\u001b[0m                                 Traceback (most recent call last)",
      "Cell \u001b[0;32mIn [6], line 3\u001b[0m\n\u001b[1;32m      1\u001b[0m \u001b[38;5;66;03m#create a DRB edesign\u001b[39;00m\n\u001b[1;32m      2\u001b[0m ds \u001b[38;5;241m=\u001b[39m [\u001b[38;5;241m2\u001b[39m\u001b[38;5;241m*\u001b[39m\u001b[38;5;241m*\u001b[39mi \u001b[38;5;28;01mfor\u001b[39;00m i \u001b[38;5;129;01min\u001b[39;00m \u001b[38;5;28mrange\u001b[39m(\u001b[38;5;241m8\u001b[39m)]\n\u001b[0;32m----> 3\u001b[0m edesign \u001b[38;5;241m=\u001b[39m \u001b[43mpygsti\u001b[49m\u001b[38;5;241;43m.\u001b[39;49m\u001b[43mprotocols\u001b[49m\u001b[38;5;241;43m.\u001b[39;49m\u001b[43mcreate_udrb_edesign\u001b[49m\u001b[43m(\u001b[49m\u001b[43mps\u001b[49m\u001b[43m,\u001b[49m\u001b[43m \u001b[49m\u001b[43mds\u001b[49m\u001b[43m,\u001b[49m\u001b[43m \u001b[49m\u001b[38;5;241;43m5\u001b[39;49m\u001b[43m,\u001b[49m\u001b[43m \u001b[49m\u001b[43mlayer_type\u001b[49m\u001b[38;5;241;43m=\u001b[39;49m\u001b[38;5;124;43m'\u001b[39;49m\u001b[38;5;124;43mcz=zxzxz\u001b[39;49m\u001b[38;5;124;43m'\u001b[39;49m\u001b[43m,\u001b[49m\u001b[43m \u001b[49m\u001b[43mqubit_labels\u001b[49m\u001b[38;5;241;43m=\u001b[39;49m\u001b[38;5;28;43;01mNone\u001b[39;49;00m\u001b[43m,\u001b[49m\u001b[43m \u001b[49m\u001b[43mtwoQ_gate_density\u001b[49m\u001b[38;5;241;43m=\u001b[39;49m\u001b[38;5;241;43m1\u001b[39;49m\u001b[38;5;241;43m/\u001b[39;49m\u001b[38;5;241;43m2\u001b[39;49m\u001b[43m)\u001b[49m\n",
      "\u001b[0;31mTypeError\u001b[0m: create_udrb_edesign() got an unexpected keyword argument 'layer_type'"
     ]
    }
   ],
   "source": [
    "#create a DRB edesign\n",
    "ds = [2**i for i in range(8)]\n",
    "edesign = pygsti.protocols.create_udrb_edesign(ps, ds, 5, layer_type='cz=zxzxz', qubit_labels=None, twoQ_gate_density=1/2)"
   ]
  },
  {
   "cell_type": "code",
   "execution_count": 56,
   "id": "107ecf68",
   "metadata": {},
   "outputs": [],
   "source": [
    "model = pygsti.models.create_crosstalk_free_model(ps)"
   ]
  },
  {
   "cell_type": "code",
   "execution_count": 61,
   "id": "10b06767",
   "metadata": {},
   "outputs": [
    {
     "name": "stderr",
     "output_type": "stream",
     "text": [
      "/home/jordanh/pyGSTi/pygsti/layouts/evaltree.py:183: UserWarning: Created an evaluation tree that is inefficient: tree-size > 100 * #circuits !\n",
      "This is likely due to the fact that the circuits being simulated do not have a\n",
      "periodic structure. Consider using a different forward simulator (e.g. MapForwardSimulator).\n",
      "  _warnings.warn((\"Created an evaluation tree that is inefficient: tree-size > %d * #circuits !\\n\"\n"
     ]
    }
   ],
   "source": [
    "data = pygsti.data.simulate_data(model, edesign.all_circuits_needing_data, 1000)"
   ]
  },
  {
   "cell_type": "code",
   "execution_count": 62,
   "id": "3edabb9f",
   "metadata": {},
   "outputs": [],
   "source": [
    "pd = pygsti.protocols.ProtocolData(edesign, data)"
   ]
  },
  {
   "cell_type": "code",
   "execution_count": 63,
   "id": "cd233adf",
   "metadata": {},
   "outputs": [],
   "source": [
    "rb = pygsti.protocols.RandomizedBenchmarking()"
   ]
  },
  {
   "cell_type": "code",
   "execution_count": 64,
   "id": "ce09aa74",
   "metadata": {},
   "outputs": [],
   "source": [
    "result = rb.run(data=pd)"
   ]
  },
  {
   "cell_type": "code",
   "execution_count": 65,
   "id": "9d6bbefa",
   "metadata": {},
   "outputs": [
    {
     "data": {
      "image/png": "[encoded data removed]",
      "text/plain": [
       "<Figure size 800x500 with 1 Axes>"
      ]
     },
     "metadata": {},
     "output_type": "display_data"
    }
   ],
   "source": [
    "result.plot()"
   ]
  },
  {
   "cell_type": "code",
   "execution_count": null,
   "id": "175f3ab8",
   "metadata": {},
   "outputs": [],
   "source": []
  }
 ],
 "metadata": {
  "kernelspec": {
   "display_name": "Python 3 (ipykernel)",
   "language": "python",
   "name": "python3"
  },
  "language_info": {
   "codemirror_mode": {
    "name": "ipython",
    "version": 3
   },
   "file_extension": ".py",
   "mimetype": "text/x-python",
   "name": "python",
   "nbconvert_exporter": "python",
   "pygments_lexer": "ipython3",
   "version": "3.8.0"
  }
 },
 "nbformat": 4,
 "nbformat_minor": 5
}
